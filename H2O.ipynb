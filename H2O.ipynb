{
 "cells": [
  {
   "cell_type": "code",
   "execution_count": 1,
   "metadata": {},
   "outputs": [],
   "source": [
    "import h2o\n",
    "import numpy as np\n",
    "import pandas as pd"
   ]
  },
  {
   "cell_type": "code",
   "execution_count": 2,
   "metadata": {},
   "outputs": [],
   "source": [
    "diamonds =  pd.read_csv('./diamonds-datamad1019/data.csv/data.csv')"
   ]
  },
  {
   "cell_type": "code",
   "execution_count": 3,
   "metadata": {},
   "outputs": [],
   "source": [
    "color = {\n",
    "    \"D\": 7,\n",
    "    \"E\": 6,\n",
    "    \"F\": 5,\n",
    "    \"G\": 4,\n",
    "    \"H\": 3,\n",
    "    \"I\": 2,\n",
    "    \"J\": 1\n",
    "}\n",
    "\n",
    "cut = {\n",
    "    \"Ideal\": 5,\n",
    "    \"Premium\": 4,\n",
    "    \"Very Good\": 3,\n",
    "    \"Good\": 2,\n",
    "    \"Fair\":1\n",
    "}\n",
    "\n",
    "clarity = {\n",
    "    \"IF\": 8,\n",
    "    \"VVS1\": 7,\n",
    "    \"VVS2\": 6,\n",
    "    \"VS1\": 5,\n",
    "    \"VS2\": 4,\n",
    "    \"SI1\": 3,\n",
    "    \"SI2\": 2,\n",
    "    \"I1\": 1\n",
    "}"
   ]
  },
  {
   "cell_type": "code",
   "execution_count": 4,
   "metadata": {},
   "outputs": [],
   "source": [
    "for i in range(len(diamonds)):\n",
    "    co = color[diamonds.loc[i, \"color\"]]\n",
    "    cu = cut[diamonds.loc[i, \"cut\"]]\n",
    "    cl = clarity[diamonds.loc[i, \"clarity\"]]\n",
    "    diamonds.loc[i, \"color_num\"] = co\n",
    "    diamonds.loc[i, \"cut_num\"] = cu\n",
    "    diamonds.loc[i, \"clarity_num\"] = cl"
   ]
  },
  {
   "cell_type": "code",
   "execution_count": 5,
   "metadata": {},
   "outputs": [],
   "source": [
    "diamonds.drop(columns=['cut','color','clarity'], inplace=True)\n",
    "diamonds['volume'] = diamonds['x']*diamonds['y']*diamonds['z']\n",
    "diamonds.drop(['x','y','z'],axis=1,inplace=True)"
   ]
  },
  {
   "cell_type": "code",
   "execution_count": 6,
   "metadata": {
    "scrolled": true
   },
   "outputs": [
    {
     "data": {
      "text/html": [
       "<div>\n",
       "<style scoped>\n",
       "    .dataframe tbody tr th:only-of-type {\n",
       "        vertical-align: middle;\n",
       "    }\n",
       "\n",
       "    .dataframe tbody tr th {\n",
       "        vertical-align: top;\n",
       "    }\n",
       "\n",
       "    .dataframe thead th {\n",
       "        text-align: right;\n",
       "    }\n",
       "</style>\n",
       "<table border=\"1\" class=\"dataframe\">\n",
       "  <thead>\n",
       "    <tr style=\"text-align: right;\">\n",
       "      <th></th>\n",
       "      <th>carat</th>\n",
       "      <th>depth</th>\n",
       "      <th>table</th>\n",
       "      <th>price</th>\n",
       "      <th>color_num</th>\n",
       "      <th>cut_num</th>\n",
       "      <th>clarity_num</th>\n",
       "      <th>volume</th>\n",
       "    </tr>\n",
       "  </thead>\n",
       "  <tbody>\n",
       "    <tr>\n",
       "      <th>0</th>\n",
       "      <td>2.26</td>\n",
       "      <td>61.9</td>\n",
       "      <td>57.0</td>\n",
       "      <td>12831</td>\n",
       "      <td>4.0</td>\n",
       "      <td>5.0</td>\n",
       "      <td>2.0</td>\n",
       "      <td>366.903680</td>\n",
       "    </tr>\n",
       "    <tr>\n",
       "      <th>1</th>\n",
       "      <td>2.43</td>\n",
       "      <td>63.2</td>\n",
       "      <td>57.0</td>\n",
       "      <td>16170</td>\n",
       "      <td>3.0</td>\n",
       "      <td>3.0</td>\n",
       "      <td>2.0</td>\n",
       "      <td>392.176400</td>\n",
       "    </tr>\n",
       "    <tr>\n",
       "      <th>2</th>\n",
       "      <td>0.80</td>\n",
       "      <td>61.0</td>\n",
       "      <td>57.0</td>\n",
       "      <td>2797</td>\n",
       "      <td>5.0</td>\n",
       "      <td>4.0</td>\n",
       "      <td>2.0</td>\n",
       "      <td>133.001901</td>\n",
       "    </tr>\n",
       "    <tr>\n",
       "      <th>3</th>\n",
       "      <td>0.40</td>\n",
       "      <td>63.3</td>\n",
       "      <td>60.0</td>\n",
       "      <td>630</td>\n",
       "      <td>5.0</td>\n",
       "      <td>5.0</td>\n",
       "      <td>1.0</td>\n",
       "      <td>64.059840</td>\n",
       "    </tr>\n",
       "    <tr>\n",
       "      <th>4</th>\n",
       "      <td>0.31</td>\n",
       "      <td>61.6</td>\n",
       "      <td>55.0</td>\n",
       "      <td>698</td>\n",
       "      <td>4.0</td>\n",
       "      <td>5.0</td>\n",
       "      <td>4.0</td>\n",
       "      <td>51.797610</td>\n",
       "    </tr>\n",
       "    <tr>\n",
       "      <th>...</th>\n",
       "      <td>...</td>\n",
       "      <td>...</td>\n",
       "      <td>...</td>\n",
       "      <td>...</td>\n",
       "      <td>...</td>\n",
       "      <td>...</td>\n",
       "      <td>...</td>\n",
       "      <td>...</td>\n",
       "    </tr>\n",
       "    <tr>\n",
       "      <th>40450</th>\n",
       "      <td>1.11</td>\n",
       "      <td>62.8</td>\n",
       "      <td>61.0</td>\n",
       "      <td>5315</td>\n",
       "      <td>3.0</td>\n",
       "      <td>4.0</td>\n",
       "      <td>3.0</td>\n",
       "      <td>180.060192</td>\n",
       "    </tr>\n",
       "    <tr>\n",
       "      <th>40451</th>\n",
       "      <td>0.73</td>\n",
       "      <td>62.6</td>\n",
       "      <td>56.0</td>\n",
       "      <td>2762</td>\n",
       "      <td>5.0</td>\n",
       "      <td>5.0</td>\n",
       "      <td>4.0</td>\n",
       "      <td>119.231280</td>\n",
       "    </tr>\n",
       "    <tr>\n",
       "      <th>40452</th>\n",
       "      <td>1.26</td>\n",
       "      <td>59.2</td>\n",
       "      <td>60.0</td>\n",
       "      <td>6855</td>\n",
       "      <td>2.0</td>\n",
       "      <td>3.0</td>\n",
       "      <td>5.0</td>\n",
       "      <td>208.046124</td>\n",
       "    </tr>\n",
       "    <tr>\n",
       "      <th>40453</th>\n",
       "      <td>0.72</td>\n",
       "      <td>61.4</td>\n",
       "      <td>56.0</td>\n",
       "      <td>2297</td>\n",
       "      <td>4.0</td>\n",
       "      <td>5.0</td>\n",
       "      <td>2.0</td>\n",
       "      <td>119.547648</td>\n",
       "    </tr>\n",
       "    <tr>\n",
       "      <th>40454</th>\n",
       "      <td>0.54</td>\n",
       "      <td>60.8</td>\n",
       "      <td>59.0</td>\n",
       "      <td>1356</td>\n",
       "      <td>4.0</td>\n",
       "      <td>4.0</td>\n",
       "      <td>3.0</td>\n",
       "      <td>87.923099</td>\n",
       "    </tr>\n",
       "  </tbody>\n",
       "</table>\n",
       "<p>40455 rows × 8 columns</p>\n",
       "</div>"
      ],
      "text/plain": [
       "       carat  depth  table  price  color_num  cut_num  clarity_num      volume\n",
       "0       2.26   61.9   57.0  12831        4.0      5.0          2.0  366.903680\n",
       "1       2.43   63.2   57.0  16170        3.0      3.0          2.0  392.176400\n",
       "2       0.80   61.0   57.0   2797        5.0      4.0          2.0  133.001901\n",
       "3       0.40   63.3   60.0    630        5.0      5.0          1.0   64.059840\n",
       "4       0.31   61.6   55.0    698        4.0      5.0          4.0   51.797610\n",
       "...      ...    ...    ...    ...        ...      ...          ...         ...\n",
       "40450   1.11   62.8   61.0   5315        3.0      4.0          3.0  180.060192\n",
       "40451   0.73   62.6   56.0   2762        5.0      5.0          4.0  119.231280\n",
       "40452   1.26   59.2   60.0   6855        2.0      3.0          5.0  208.046124\n",
       "40453   0.72   61.4   56.0   2297        4.0      5.0          2.0  119.547648\n",
       "40454   0.54   60.8   59.0   1356        4.0      4.0          3.0   87.923099\n",
       "\n",
       "[40455 rows x 8 columns]"
      ]
     },
     "execution_count": 6,
     "metadata": {},
     "output_type": "execute_result"
    }
   ],
   "source": [
    "diamonds"
   ]
  },
  {
   "cell_type": "code",
   "execution_count": 8,
   "metadata": {},
   "outputs": [
    {
     "name": "stdout",
     "output_type": "stream",
     "text": [
      "Checking whether there is an H2O instance running at http://localhost:54321 ..... not found.\n",
      "Attempting to start a local H2O server...\n",
      "  Java Version: openjdk version \"11.0.4\" 2019-07-16; OpenJDK Runtime Environment (build 11.0.4+11-post-Ubuntu-1ubuntu218.04.3); OpenJDK 64-Bit Server VM (build 11.0.4+11-post-Ubuntu-1ubuntu218.04.3, mixed mode, sharing)\n",
      "  Starting server from /home/mariobru/.local/lib/python3.6/site-packages/h2o/backend/bin/h2o.jar\n",
      "  Ice root: /tmp/tmpyd9bbs7w\n",
      "  JVM stdout: /tmp/tmpyd9bbs7w/h2o_mariobru_started_from_python.out\n",
      "  JVM stderr: /tmp/tmpyd9bbs7w/h2o_mariobru_started_from_python.err\n",
      "  Server is running at http://127.0.0.1:54321\n",
      "Connecting to H2O server at http://127.0.0.1:54321 ... successful.\n"
     ]
    },
    {
     "data": {
      "text/html": [
       "<div style=\"overflow:auto\"><table style=\"width:50%\"><tr><td>H2O cluster uptime:</td>\n",
       "<td>00 secs</td></tr>\n",
       "<tr><td>H2O cluster timezone:</td>\n",
       "<td>Europe/Madrid</td></tr>\n",
       "<tr><td>H2O data parsing timezone:</td>\n",
       "<td>UTC</td></tr>\n",
       "<tr><td>H2O cluster version:</td>\n",
       "<td>3.26.0.11</td></tr>\n",
       "<tr><td>H2O cluster version age:</td>\n",
       "<td>3 days </td></tr>\n",
       "<tr><td>H2O cluster name:</td>\n",
       "<td>H2O_from_python_mariobru_4n4h1g</td></tr>\n",
       "<tr><td>H2O cluster total nodes:</td>\n",
       "<td>1</td></tr>\n",
       "<tr><td>H2O cluster free memory:</td>\n",
       "<td>26 Gb</td></tr>\n",
       "<tr><td>H2O cluster total cores:</td>\n",
       "<td>12</td></tr>\n",
       "<tr><td>H2O cluster allowed cores:</td>\n",
       "<td>12</td></tr>\n",
       "<tr><td>H2O cluster status:</td>\n",
       "<td>accepting new members, healthy</td></tr>\n",
       "<tr><td>H2O connection url:</td>\n",
       "<td>http://127.0.0.1:54321</td></tr>\n",
       "<tr><td>H2O connection proxy:</td>\n",
       "<td>{'http': None, 'https': None}</td></tr>\n",
       "<tr><td>H2O internal security:</td>\n",
       "<td>False</td></tr>\n",
       "<tr><td>H2O API Extensions:</td>\n",
       "<td>Amazon S3, XGBoost, Algos, AutoML, Core V3, TargetEncoder, Core V4</td></tr>\n",
       "<tr><td>Python version:</td>\n",
       "<td>3.6.9 final</td></tr></table></div>"
      ],
      "text/plain": [
       "--------------------------  ------------------------------------------------------------------\n",
       "H2O cluster uptime:         00 secs\n",
       "H2O cluster timezone:       Europe/Madrid\n",
       "H2O data parsing timezone:  UTC\n",
       "H2O cluster version:        3.26.0.11\n",
       "H2O cluster version age:    3 days\n",
       "H2O cluster name:           H2O_from_python_mariobru_4n4h1g\n",
       "H2O cluster total nodes:    1\n",
       "H2O cluster free memory:    26 Gb\n",
       "H2O cluster total cores:    12\n",
       "H2O cluster allowed cores:  12\n",
       "H2O cluster status:         accepting new members, healthy\n",
       "H2O connection url:         http://127.0.0.1:54321\n",
       "H2O connection proxy:       {'http': None, 'https': None}\n",
       "H2O internal security:      False\n",
       "H2O API Extensions:         Amazon S3, XGBoost, Algos, AutoML, Core V3, TargetEncoder, Core V4\n",
       "Python version:             3.6.9 final\n",
       "--------------------------  ------------------------------------------------------------------"
      ]
     },
     "metadata": {},
     "output_type": "display_data"
    }
   ],
   "source": [
    "h2o.init(nthreads = -1, max_mem_size = 26)"
   ]
  },
  {
   "cell_type": "code",
   "execution_count": 9,
   "metadata": {},
   "outputs": [
    {
     "name": "stdout",
     "output_type": "stream",
     "text": [
      "Parse progress: |█████████████████████████████████████████████████████████| 100%\n"
     ]
    }
   ],
   "source": [
    "diamonds_h2o=h2o.H2OFrame(diamonds)"
   ]
  },
  {
   "cell_type": "code",
   "execution_count": 24,
   "metadata": {},
   "outputs": [
    {
     "data": {
      "text/html": [
       "<table>\n",
       "<thead>\n",
       "<tr><th style=\"text-align: right;\">  carat</th><th style=\"text-align: right;\">  depth</th><th style=\"text-align: right;\">  table</th><th style=\"text-align: right;\">  price</th><th style=\"text-align: right;\">  color_num</th><th style=\"text-align: right;\">  cut_num</th><th style=\"text-align: right;\">  clarity_num</th><th style=\"text-align: right;\">  volume</th></tr>\n",
       "</thead>\n",
       "<tbody>\n",
       "<tr><td style=\"text-align: right;\">   2.26</td><td style=\"text-align: right;\">   61.9</td><td style=\"text-align: right;\">     57</td><td style=\"text-align: right;\">  12831</td><td style=\"text-align: right;\">          4</td><td style=\"text-align: right;\">        5</td><td style=\"text-align: right;\">            2</td><td style=\"text-align: right;\">366.904 </td></tr>\n",
       "<tr><td style=\"text-align: right;\">   2.43</td><td style=\"text-align: right;\">   63.2</td><td style=\"text-align: right;\">     57</td><td style=\"text-align: right;\">  16170</td><td style=\"text-align: right;\">          3</td><td style=\"text-align: right;\">        3</td><td style=\"text-align: right;\">            2</td><td style=\"text-align: right;\">392.176 </td></tr>\n",
       "<tr><td style=\"text-align: right;\">   0.8 </td><td style=\"text-align: right;\">   61  </td><td style=\"text-align: right;\">     57</td><td style=\"text-align: right;\">   2797</td><td style=\"text-align: right;\">          5</td><td style=\"text-align: right;\">        4</td><td style=\"text-align: right;\">            2</td><td style=\"text-align: right;\">133.002 </td></tr>\n",
       "<tr><td style=\"text-align: right;\">   0.4 </td><td style=\"text-align: right;\">   63.3</td><td style=\"text-align: right;\">     60</td><td style=\"text-align: right;\">    630</td><td style=\"text-align: right;\">          5</td><td style=\"text-align: right;\">        5</td><td style=\"text-align: right;\">            1</td><td style=\"text-align: right;\"> 64.0598</td></tr>\n",
       "<tr><td style=\"text-align: right;\">   0.31</td><td style=\"text-align: right;\">   61.6</td><td style=\"text-align: right;\">     55</td><td style=\"text-align: right;\">    698</td><td style=\"text-align: right;\">          4</td><td style=\"text-align: right;\">        5</td><td style=\"text-align: right;\">            4</td><td style=\"text-align: right;\"> 51.7976</td></tr>\n",
       "<tr><td style=\"text-align: right;\">   0.53</td><td style=\"text-align: right;\">   60.5</td><td style=\"text-align: right;\">     60</td><td style=\"text-align: right;\">   1132</td><td style=\"text-align: right;\">          5</td><td style=\"text-align: right;\">        3</td><td style=\"text-align: right;\">            2</td><td style=\"text-align: right;\"> 85.5027</td></tr>\n",
       "<tr><td style=\"text-align: right;\">   0.7 </td><td style=\"text-align: right;\">   60.8</td><td style=\"text-align: right;\">     61</td><td style=\"text-align: right;\">   1987</td><td style=\"text-align: right;\">          7</td><td style=\"text-align: right;\">        4</td><td style=\"text-align: right;\">            2</td><td style=\"text-align: right;\">110.716 </td></tr>\n",
       "<tr><td style=\"text-align: right;\">   1.13</td><td style=\"text-align: right;\">   64  </td><td style=\"text-align: right;\">     58</td><td style=\"text-align: right;\">   3952</td><td style=\"text-align: right;\">          5</td><td style=\"text-align: right;\">        2</td><td style=\"text-align: right;\">            2</td><td style=\"text-align: right;\">179.758 </td></tr>\n",
       "<tr><td style=\"text-align: right;\">   0.35</td><td style=\"text-align: right;\">   60.9</td><td style=\"text-align: right;\">     55</td><td style=\"text-align: right;\">    614</td><td style=\"text-align: right;\">          6</td><td style=\"text-align: right;\">        5</td><td style=\"text-align: right;\">            3</td><td style=\"text-align: right;\"> 57.3448</td></tr>\n",
       "<tr><td style=\"text-align: right;\">   1.01</td><td style=\"text-align: right;\">   61.4</td><td style=\"text-align: right;\">     66</td><td style=\"text-align: right;\">   5062</td><td style=\"text-align: right;\">          3</td><td style=\"text-align: right;\">        1</td><td style=\"text-align: right;\">            5</td><td style=\"text-align: right;\">153.103 </td></tr>\n",
       "</tbody>\n",
       "</table>"
      ]
     },
     "metadata": {},
     "output_type": "display_data"
    },
    {
     "data": {
      "text/plain": []
     },
     "execution_count": 24,
     "metadata": {},
     "output_type": "execute_result"
    }
   ],
   "source": [
    "diamonds_h2o.head()"
   ]
  },
  {
   "cell_type": "code",
   "execution_count": 84,
   "metadata": {},
   "outputs": [],
   "source": [
    "y_columns = \"price\"\n",
    "x_columns = [\"carat\",\"color_num\",\"cut_num\",\"clarity_num\",\"volume\",\"table\"]"
   ]
  },
  {
   "cell_type": "code",
   "execution_count": null,
   "metadata": {},
   "outputs": [],
   "source": []
  },
  {
   "cell_type": "code",
   "execution_count": 85,
   "metadata": {},
   "outputs": [],
   "source": [
    "train, test=diamonds_h2o.split_frame(ratios = [.8])\n",
    "X_train=train[x_columns]\n",
    "y_train=train[y_columns]\n",
    "X_test=test[x_columns]\n",
    "y_test=test[y_columns]"
   ]
  },
  {
   "cell_type": "code",
   "execution_count": 86,
   "metadata": {},
   "outputs": [
    {
     "name": "stdout",
     "output_type": "stream",
     "text": [
      "AutoML progress: |████████████████████████████████████████████████████████| 100%\n"
     ]
    }
   ],
   "source": [
    "from h2o.automl import H2OAutoML\n",
    "aml_ti = H2OAutoML(max_runtime_secs= 180,max_models= 15, seed= 1, nfolds=0)\n",
    "aml_ti.train(x = x_columns, y = y_columns, training_frame = train, validation_frame=test)"
   ]
  },
  {
   "cell_type": "code",
   "execution_count": 87,
   "metadata": {},
   "outputs": [
    {
     "data": {
      "text/html": [
       "<table>\n",
       "<thead>\n",
       "<tr><th>model_id                        </th><th style=\"text-align: right;\">  mean_residual_deviance</th><th style=\"text-align: right;\">   rmse</th><th style=\"text-align: right;\">   mse</th><th style=\"text-align: right;\">    mae</th><th style=\"text-align: right;\">     rmsle</th></tr>\n",
       "</thead>\n",
       "<tbody>\n",
       "<tr><td>XGBoost_2_AutoML_20191209_132414</td><td style=\"text-align: right;\">                  316924</td><td style=\"text-align: right;\">562.96 </td><td style=\"text-align: right;\">316924</td><td style=\"text-align: right;\">289.62 </td><td style=\"text-align: right;\">  0.113998</td></tr>\n",
       "<tr><td>GBM_1_AutoML_20191209_132414    </td><td style=\"text-align: right;\">                  317080</td><td style=\"text-align: right;\">563.099</td><td style=\"text-align: right;\">317080</td><td style=\"text-align: right;\">287.519</td><td style=\"text-align: right;\">  0.11062 </td></tr>\n",
       "<tr><td>GBM_2_AutoML_20191209_132414    </td><td style=\"text-align: right;\">                  319652</td><td style=\"text-align: right;\">565.378</td><td style=\"text-align: right;\">319652</td><td style=\"text-align: right;\">288.084</td><td style=\"text-align: right;\">  0.110419</td></tr>\n",
       "<tr><td>GBM_3_AutoML_20191209_132414    </td><td style=\"text-align: right;\">                  322730</td><td style=\"text-align: right;\">568.093</td><td style=\"text-align: right;\">322730</td><td style=\"text-align: right;\">294.324</td><td style=\"text-align: right;\">nan       </td></tr>\n",
       "<tr><td>XGBoost_3_AutoML_20191209_132414</td><td style=\"text-align: right;\">                  323564</td><td style=\"text-align: right;\">568.827</td><td style=\"text-align: right;\">323564</td><td style=\"text-align: right;\">293.685</td><td style=\"text-align: right;\">  0.118157</td></tr>\n",
       "<tr><td>GBM_4_AutoML_20191209_132414    </td><td style=\"text-align: right;\">                  328818</td><td style=\"text-align: right;\">573.427</td><td style=\"text-align: right;\">328818</td><td style=\"text-align: right;\">294.063</td><td style=\"text-align: right;\">  0.11516 </td></tr>\n",
       "<tr><td>XGBoost_1_AutoML_20191209_132414</td><td style=\"text-align: right;\">                  328862</td><td style=\"text-align: right;\">573.465</td><td style=\"text-align: right;\">328862</td><td style=\"text-align: right;\">290.429</td><td style=\"text-align: right;\">  0.105275</td></tr>\n",
       "<tr><td>XRT_1_AutoML_20191209_132414    </td><td style=\"text-align: right;\">                  329920</td><td style=\"text-align: right;\">574.386</td><td style=\"text-align: right;\">329920</td><td style=\"text-align: right;\">294.671</td><td style=\"text-align: right;\">  0.11055 </td></tr>\n",
       "<tr><td>DRF_1_AutoML_20191209_132414    </td><td style=\"text-align: right;\">                  336281</td><td style=\"text-align: right;\">579.897</td><td style=\"text-align: right;\">336281</td><td style=\"text-align: right;\">292.741</td><td style=\"text-align: right;\">  0.110366</td></tr>\n",
       "<tr><td>GBM_5_AutoML_20191209_132414    </td><td style=\"text-align: right;\">                  336902</td><td style=\"text-align: right;\">580.432</td><td style=\"text-align: right;\">336902</td><td style=\"text-align: right;\">294.81 </td><td style=\"text-align: right;\">nan       </td></tr>\n",
       "</tbody>\n",
       "</table>"
      ]
     },
     "metadata": {},
     "output_type": "display_data"
    },
    {
     "data": {
      "text/plain": []
     },
     "execution_count": 87,
     "metadata": {},
     "output_type": "execute_result"
    }
   ],
   "source": [
    "lb_ti = aml_ti.leaderboard\n",
    "lb_ti"
   ]
  },
  {
   "cell_type": "code",
   "execution_count": 88,
   "metadata": {},
   "outputs": [
    {
     "name": "stdout",
     "output_type": "stream",
     "text": [
      "xgboost prediction progress: |████████████████████████████████████████████| 100%\n"
     ]
    }
   ],
   "source": [
    "pred_automl = aml_ti.leader.predict(test)"
   ]
  },
  {
   "cell_type": "code",
   "execution_count": 89,
   "metadata": {},
   "outputs": [
    {
     "data": {
      "text/html": [
       "<table>\n",
       "<thead>\n",
       "<tr><th style=\"text-align: right;\">  predict</th></tr>\n",
       "</thead>\n",
       "<tbody>\n",
       "<tr><td style=\"text-align: right;\">  618.031</td></tr>\n",
       "<tr><td style=\"text-align: right;\"> 5430.29 </td></tr>\n",
       "<tr><td style=\"text-align: right;\"> 6068.63 </td></tr>\n",
       "<tr><td style=\"text-align: right;\"> 2891.39 </td></tr>\n",
       "<tr><td style=\"text-align: right;\">  871.352</td></tr>\n",
       "<tr><td style=\"text-align: right;\"> 5190.23 </td></tr>\n",
       "<tr><td style=\"text-align: right;\"> 1552.11 </td></tr>\n",
       "<tr><td style=\"text-align: right;\"> 5130.24 </td></tr>\n",
       "<tr><td style=\"text-align: right;\"> 8252.83 </td></tr>\n",
       "<tr><td style=\"text-align: right;\">  811.189</td></tr>\n",
       "</tbody>\n",
       "</table>"
      ]
     },
     "metadata": {},
     "output_type": "display_data"
    },
    {
     "data": {
      "text/plain": []
     },
     "execution_count": 89,
     "metadata": {},
     "output_type": "execute_result"
    }
   ],
   "source": [
    "pred_automl"
   ]
  },
  {
   "cell_type": "code",
   "execution_count": 90,
   "metadata": {},
   "outputs": [
    {
     "data": {
      "text/html": [
       "<table>\n",
       "<thead>\n",
       "<tr><th style=\"text-align: right;\">  price</th></tr>\n",
       "</thead>\n",
       "<tbody>\n",
       "<tr><td style=\"text-align: right;\">    552</td></tr>\n",
       "<tr><td style=\"text-align: right;\">   5315</td></tr>\n",
       "<tr><td style=\"text-align: right;\">   6670</td></tr>\n",
       "<tr><td style=\"text-align: right;\">   2775</td></tr>\n",
       "<tr><td style=\"text-align: right;\">    965</td></tr>\n",
       "<tr><td style=\"text-align: right;\">   5433</td></tr>\n",
       "<tr><td style=\"text-align: right;\">   1429</td></tr>\n",
       "<tr><td style=\"text-align: right;\">   4830</td></tr>\n",
       "<tr><td style=\"text-align: right;\">   8014</td></tr>\n",
       "<tr><td style=\"text-align: right;\">    707</td></tr>\n",
       "</tbody>\n",
       "</table>"
      ]
     },
     "metadata": {},
     "output_type": "display_data"
    },
    {
     "data": {
      "text/plain": []
     },
     "execution_count": 90,
     "metadata": {},
     "output_type": "execute_result"
    }
   ],
   "source": [
    "y_test"
   ]
  },
  {
   "cell_type": "code",
   "execution_count": 91,
   "metadata": {},
   "outputs": [],
   "source": [
    "#Probamos con test"
   ]
  },
  {
   "cell_type": "code",
   "execution_count": 92,
   "metadata": {},
   "outputs": [],
   "source": [
    "diamonds_test =  pd.read_csv('./diamonds-datamad1019/test.csv')"
   ]
  },
  {
   "cell_type": "code",
   "execution_count": 93,
   "metadata": {},
   "outputs": [],
   "source": [
    "for i in range(len(diamonds_test)):\n",
    "    co = color[diamonds_test.loc[i, \"color\"]]\n",
    "    cu = cut[diamonds_test.loc[i, \"cut\"]]\n",
    "    cl = clarity[diamonds_test.loc[i, \"clarity\"]]\n",
    "    diamonds_test.loc[i, \"color_num\"] = co\n",
    "    diamonds_test.loc[i, \"cut_num\"] = cu\n",
    "    diamonds_test.loc[i, \"clarity_num\"] = cl"
   ]
  },
  {
   "cell_type": "code",
   "execution_count": 95,
   "metadata": {},
   "outputs": [],
   "source": [
    "diamonds_test.drop(columns=['cut','color','clarity'], inplace=True)"
   ]
  },
  {
   "cell_type": "code",
   "execution_count": 96,
   "metadata": {},
   "outputs": [],
   "source": [
    "diamonds_test['volume'] = diamonds_test['x']*diamonds_test['y']*diamonds_test['z']\n",
    "diamonds_test.drop(['x','y','z'],axis=1,inplace=True)"
   ]
  },
  {
   "cell_type": "code",
   "execution_count": 97,
   "metadata": {},
   "outputs": [
    {
     "name": "stdout",
     "output_type": "stream",
     "text": [
      "Parse progress: |█████████████████████████████████████████████████████████| 100%\n"
     ]
    }
   ],
   "source": [
    "diamonds_h2o=h2o.H2OFrame(diamonds)"
   ]
  },
  {
   "cell_type": "code",
   "execution_count": 99,
   "metadata": {},
   "outputs": [],
   "source": [
    "x_columns = [\"carat\",\"color_num\",\"cut_num\",\"clarity_num\",\"volume\",\"table\"]"
   ]
  },
  {
   "cell_type": "code",
   "execution_count": 102,
   "metadata": {},
   "outputs": [],
   "source": [
    "X_train=diamonds_h2o[x_columns]"
   ]
  },
  {
   "cell_type": "code",
   "execution_count": 103,
   "metadata": {},
   "outputs": [
    {
     "name": "stdout",
     "output_type": "stream",
     "text": [
      "xgboost prediction progress: |████████████████████████████████████████████| 100%\n"
     ]
    }
   ],
   "source": [
    "pred_automl = aml_ti.leader.predict(X_train)"
   ]
  },
  {
   "cell_type": "code",
   "execution_count": 104,
   "metadata": {},
   "outputs": [
    {
     "data": {
      "text/html": [
       "<table>\n",
       "<thead>\n",
       "<tr><th style=\"text-align: right;\">  predict</th></tr>\n",
       "</thead>\n",
       "<tbody>\n",
       "<tr><td style=\"text-align: right;\">14674.6  </td></tr>\n",
       "<tr><td style=\"text-align: right;\">16000.3  </td></tr>\n",
       "<tr><td style=\"text-align: right;\"> 2610.07 </td></tr>\n",
       "<tr><td style=\"text-align: right;\">  510.234</td></tr>\n",
       "<tr><td style=\"text-align: right;\">  656.357</td></tr>\n",
       "<tr><td style=\"text-align: right;\"> 1060.46 </td></tr>\n",
       "<tr><td style=\"text-align: right;\"> 2151.27 </td></tr>\n",
       "<tr><td style=\"text-align: right;\"> 4310.88 </td></tr>\n",
       "<tr><td style=\"text-align: right;\">  670.556</td></tr>\n",
       "<tr><td style=\"text-align: right;\"> 4260.45 </td></tr>\n",
       "</tbody>\n",
       "</table>"
      ]
     },
     "metadata": {},
     "output_type": "display_data"
    },
    {
     "data": {
      "text/plain": []
     },
     "execution_count": 104,
     "metadata": {},
     "output_type": "execute_result"
    }
   ],
   "source": [
    "pred_automl"
   ]
  },
  {
   "cell_type": "code",
   "execution_count": 105,
   "metadata": {},
   "outputs": [],
   "source": [
    "submission = pred_automl.as_data_frame()"
   ]
  },
  {
   "cell_type": "code",
   "execution_count": 106,
   "metadata": {},
   "outputs": [
    {
     "data": {
      "text/html": [
       "<div>\n",
       "<style scoped>\n",
       "    .dataframe tbody tr th:only-of-type {\n",
       "        vertical-align: middle;\n",
       "    }\n",
       "\n",
       "    .dataframe tbody tr th {\n",
       "        vertical-align: top;\n",
       "    }\n",
       "\n",
       "    .dataframe thead th {\n",
       "        text-align: right;\n",
       "    }\n",
       "</style>\n",
       "<table border=\"1\" class=\"dataframe\">\n",
       "  <thead>\n",
       "    <tr style=\"text-align: right;\">\n",
       "      <th></th>\n",
       "      <th>predict</th>\n",
       "    </tr>\n",
       "  </thead>\n",
       "  <tbody>\n",
       "    <tr>\n",
       "      <th>0</th>\n",
       "      <td>14674.609375</td>\n",
       "    </tr>\n",
       "    <tr>\n",
       "      <th>1</th>\n",
       "      <td>16000.343750</td>\n",
       "    </tr>\n",
       "    <tr>\n",
       "      <th>2</th>\n",
       "      <td>2610.066162</td>\n",
       "    </tr>\n",
       "    <tr>\n",
       "      <th>3</th>\n",
       "      <td>510.233551</td>\n",
       "    </tr>\n",
       "    <tr>\n",
       "      <th>4</th>\n",
       "      <td>656.356995</td>\n",
       "    </tr>\n",
       "    <tr>\n",
       "      <th>...</th>\n",
       "      <td>...</td>\n",
       "    </tr>\n",
       "    <tr>\n",
       "      <th>40450</th>\n",
       "      <td>4989.118164</td>\n",
       "    </tr>\n",
       "    <tr>\n",
       "      <th>40451</th>\n",
       "      <td>2946.767822</td>\n",
       "    </tr>\n",
       "    <tr>\n",
       "      <th>40452</th>\n",
       "      <td>6556.066895</td>\n",
       "    </tr>\n",
       "    <tr>\n",
       "      <th>40453</th>\n",
       "      <td>2309.455811</td>\n",
       "    </tr>\n",
       "    <tr>\n",
       "      <th>40454</th>\n",
       "      <td>1389.624878</td>\n",
       "    </tr>\n",
       "  </tbody>\n",
       "</table>\n",
       "<p>40455 rows × 1 columns</p>\n",
       "</div>"
      ],
      "text/plain": [
       "            predict\n",
       "0      14674.609375\n",
       "1      16000.343750\n",
       "2       2610.066162\n",
       "3        510.233551\n",
       "4        656.356995\n",
       "...             ...\n",
       "40450   4989.118164\n",
       "40451   2946.767822\n",
       "40452   6556.066895\n",
       "40453   2309.455811\n",
       "40454   1389.624878\n",
       "\n",
       "[40455 rows x 1 columns]"
      ]
     },
     "execution_count": 106,
     "metadata": {},
     "output_type": "execute_result"
    }
   ],
   "source": [
    "submission"
   ]
  },
  {
   "cell_type": "code",
   "execution_count": 107,
   "metadata": {},
   "outputs": [
    {
     "data": {
      "text/html": [
       "<div>\n",
       "<style scoped>\n",
       "    .dataframe tbody tr th:only-of-type {\n",
       "        vertical-align: middle;\n",
       "    }\n",
       "\n",
       "    .dataframe tbody tr th {\n",
       "        vertical-align: top;\n",
       "    }\n",
       "\n",
       "    .dataframe thead th {\n",
       "        text-align: right;\n",
       "    }\n",
       "</style>\n",
       "<table border=\"1\" class=\"dataframe\">\n",
       "  <thead>\n",
       "    <tr style=\"text-align: right;\">\n",
       "      <th></th>\n",
       "      <th>price</th>\n",
       "    </tr>\n",
       "  </thead>\n",
       "  <tbody>\n",
       "    <tr>\n",
       "      <th>0</th>\n",
       "      <td>14674.609375</td>\n",
       "    </tr>\n",
       "    <tr>\n",
       "      <th>1</th>\n",
       "      <td>16000.343750</td>\n",
       "    </tr>\n",
       "    <tr>\n",
       "      <th>2</th>\n",
       "      <td>2610.066162</td>\n",
       "    </tr>\n",
       "    <tr>\n",
       "      <th>3</th>\n",
       "      <td>510.233551</td>\n",
       "    </tr>\n",
       "    <tr>\n",
       "      <th>4</th>\n",
       "      <td>656.356995</td>\n",
       "    </tr>\n",
       "    <tr>\n",
       "      <th>...</th>\n",
       "      <td>...</td>\n",
       "    </tr>\n",
       "    <tr>\n",
       "      <th>40450</th>\n",
       "      <td>4989.118164</td>\n",
       "    </tr>\n",
       "    <tr>\n",
       "      <th>40451</th>\n",
       "      <td>2946.767822</td>\n",
       "    </tr>\n",
       "    <tr>\n",
       "      <th>40452</th>\n",
       "      <td>6556.066895</td>\n",
       "    </tr>\n",
       "    <tr>\n",
       "      <th>40453</th>\n",
       "      <td>2309.455811</td>\n",
       "    </tr>\n",
       "    <tr>\n",
       "      <th>40454</th>\n",
       "      <td>1389.624878</td>\n",
       "    </tr>\n",
       "  </tbody>\n",
       "</table>\n",
       "<p>40455 rows × 1 columns</p>\n",
       "</div>"
      ],
      "text/plain": [
       "              price\n",
       "0      14674.609375\n",
       "1      16000.343750\n",
       "2       2610.066162\n",
       "3        510.233551\n",
       "4        656.356995\n",
       "...             ...\n",
       "40450   4989.118164\n",
       "40451   2946.767822\n",
       "40452   6556.066895\n",
       "40453   2309.455811\n",
       "40454   1389.624878\n",
       "\n",
       "[40455 rows x 1 columns]"
      ]
     },
     "execution_count": 107,
     "metadata": {},
     "output_type": "execute_result"
    }
   ],
   "source": [
    "submission.rename(columns={\"predict\": \"price\"}, inplace=True)\n",
    "submission"
   ]
  },
  {
   "cell_type": "code",
   "execution_count": 108,
   "metadata": {},
   "outputs": [],
   "source": [
    "submission.price = submission.price.astype(int)\n"
   ]
  },
  {
   "cell_type": "code",
   "execution_count": 109,
   "metadata": {},
   "outputs": [
    {
     "data": {
      "text/html": [
       "<div>\n",
       "<style scoped>\n",
       "    .dataframe tbody tr th:only-of-type {\n",
       "        vertical-align: middle;\n",
       "    }\n",
       "\n",
       "    .dataframe tbody tr th {\n",
       "        vertical-align: top;\n",
       "    }\n",
       "\n",
       "    .dataframe thead th {\n",
       "        text-align: right;\n",
       "    }\n",
       "</style>\n",
       "<table border=\"1\" class=\"dataframe\">\n",
       "  <thead>\n",
       "    <tr style=\"text-align: right;\">\n",
       "      <th></th>\n",
       "      <th>price</th>\n",
       "    </tr>\n",
       "  </thead>\n",
       "  <tbody>\n",
       "    <tr>\n",
       "      <th>0</th>\n",
       "      <td>14674</td>\n",
       "    </tr>\n",
       "    <tr>\n",
       "      <th>1</th>\n",
       "      <td>16000</td>\n",
       "    </tr>\n",
       "    <tr>\n",
       "      <th>2</th>\n",
       "      <td>2610</td>\n",
       "    </tr>\n",
       "    <tr>\n",
       "      <th>3</th>\n",
       "      <td>510</td>\n",
       "    </tr>\n",
       "    <tr>\n",
       "      <th>4</th>\n",
       "      <td>656</td>\n",
       "    </tr>\n",
       "    <tr>\n",
       "      <th>...</th>\n",
       "      <td>...</td>\n",
       "    </tr>\n",
       "    <tr>\n",
       "      <th>40450</th>\n",
       "      <td>4989</td>\n",
       "    </tr>\n",
       "    <tr>\n",
       "      <th>40451</th>\n",
       "      <td>2946</td>\n",
       "    </tr>\n",
       "    <tr>\n",
       "      <th>40452</th>\n",
       "      <td>6556</td>\n",
       "    </tr>\n",
       "    <tr>\n",
       "      <th>40453</th>\n",
       "      <td>2309</td>\n",
       "    </tr>\n",
       "    <tr>\n",
       "      <th>40454</th>\n",
       "      <td>1389</td>\n",
       "    </tr>\n",
       "  </tbody>\n",
       "</table>\n",
       "<p>40455 rows × 1 columns</p>\n",
       "</div>"
      ],
      "text/plain": [
       "       price\n",
       "0      14674\n",
       "1      16000\n",
       "2       2610\n",
       "3        510\n",
       "4        656\n",
       "...      ...\n",
       "40450   4989\n",
       "40451   2946\n",
       "40452   6556\n",
       "40453   2309\n",
       "40454   1389\n",
       "\n",
       "[40455 rows x 1 columns]"
      ]
     },
     "execution_count": 109,
     "metadata": {},
     "output_type": "execute_result"
    }
   ],
   "source": [
    "submission"
   ]
  },
  {
   "cell_type": "code",
   "execution_count": 111,
   "metadata": {},
   "outputs": [],
   "source": [
    "submission.to_csv('./diamonds-datamad1019/submission.csv')"
   ]
  },
  {
   "cell_type": "code",
   "execution_count": null,
   "metadata": {},
   "outputs": [],
   "source": []
  }
 ],
 "metadata": {
  "kernelspec": {
   "display_name": "Python 3",
   "language": "python",
   "name": "python3"
  },
  "language_info": {
   "codemirror_mode": {
    "name": "ipython",
    "version": 3
   },
   "file_extension": ".py",
   "mimetype": "text/x-python",
   "name": "python",
   "nbconvert_exporter": "python",
   "pygments_lexer": "ipython3",
   "version": "3.6.9"
  }
 },
 "nbformat": 4,
 "nbformat_minor": 2
}
