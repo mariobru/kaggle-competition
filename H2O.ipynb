{
 "cells": [
  {
   "cell_type": "code",
   "execution_count": 178,
   "metadata": {},
   "outputs": [],
   "source": [
    "import h2o\n",
    "import numpy as np\n",
    "import pandas as pd"
   ]
  },
  {
   "cell_type": "code",
   "execution_count": 179,
   "metadata": {},
   "outputs": [],
   "source": [
    "diamonds =  pd.read_csv('./diamonds-datamad1019/data.csv/data.csv')"
   ]
  },
  {
   "cell_type": "code",
   "execution_count": 180,
   "metadata": {},
   "outputs": [],
   "source": [
    "color = {\n",
    "    \"D\": 7,\n",
    "    \"E\": 6,\n",
    "    \"F\": 5,\n",
    "    \"G\": 4,\n",
    "    \"H\": 3,\n",
    "    \"I\": 2,\n",
    "    \"J\": 1\n",
    "}\n",
    "\n",
    "cut = {\n",
    "    \"Ideal\": 5,\n",
    "    \"Premium\": 4,\n",
    "    \"Very Good\": 3,\n",
    "    \"Good\": 2,\n",
    "    \"Fair\":1\n",
    "}\n",
    "\n",
    "clarity = {\n",
    "    \"IF\": 8,\n",
    "    \"VVS1\": 7,\n",
    "    \"VVS2\": 6,\n",
    "    \"VS1\": 5,\n",
    "    \"VS2\": 4,\n",
    "    \"SI1\": 3,\n",
    "    \"SI2\": 2,\n",
    "    \"I1\": 1\n",
    "}"
   ]
  },
  {
   "cell_type": "code",
   "execution_count": 181,
   "metadata": {},
   "outputs": [],
   "source": [
    "for i in range(len(diamonds)):\n",
    "    co = color[diamonds.loc[i, \"color\"]]\n",
    "    cu = cut[diamonds.loc[i, \"cut\"]]\n",
    "    cl = clarity[diamonds.loc[i, \"clarity\"]]\n",
    "    diamonds.loc[i, \"color_num\"] = co\n",
    "    diamonds.loc[i, \"cut_num\"] = cu\n",
    "    diamonds.loc[i, \"clarity_num\"] = cl"
   ]
  },
  {
   "cell_type": "code",
   "execution_count": 182,
   "metadata": {},
   "outputs": [],
   "source": [
    "diamonds.drop(columns=['cut','color','clarity'], inplace=True)\n",
    "diamonds['volume'] = diamonds['x']*diamonds['y']*diamonds['z']\n",
    "diamonds.drop(['x','y','z'],axis=1,inplace=True)"
   ]
  },
  {
   "cell_type": "code",
   "execution_count": 183,
   "metadata": {
    "scrolled": true
   },
   "outputs": [
    {
     "data": {
      "text/html": [
       "<div>\n",
       "<style scoped>\n",
       "    .dataframe tbody tr th:only-of-type {\n",
       "        vertical-align: middle;\n",
       "    }\n",
       "\n",
       "    .dataframe tbody tr th {\n",
       "        vertical-align: top;\n",
       "    }\n",
       "\n",
       "    .dataframe thead th {\n",
       "        text-align: right;\n",
       "    }\n",
       "</style>\n",
       "<table border=\"1\" class=\"dataframe\">\n",
       "  <thead>\n",
       "    <tr style=\"text-align: right;\">\n",
       "      <th></th>\n",
       "      <th>carat</th>\n",
       "      <th>depth</th>\n",
       "      <th>table</th>\n",
       "      <th>price</th>\n",
       "      <th>color_num</th>\n",
       "      <th>cut_num</th>\n",
       "      <th>clarity_num</th>\n",
       "      <th>volume</th>\n",
       "    </tr>\n",
       "  </thead>\n",
       "  <tbody>\n",
       "    <tr>\n",
       "      <th>0</th>\n",
       "      <td>2.26</td>\n",
       "      <td>61.9</td>\n",
       "      <td>57.0</td>\n",
       "      <td>12831</td>\n",
       "      <td>4.0</td>\n",
       "      <td>5.0</td>\n",
       "      <td>2.0</td>\n",
       "      <td>366.903680</td>\n",
       "    </tr>\n",
       "    <tr>\n",
       "      <th>1</th>\n",
       "      <td>2.43</td>\n",
       "      <td>63.2</td>\n",
       "      <td>57.0</td>\n",
       "      <td>16170</td>\n",
       "      <td>3.0</td>\n",
       "      <td>3.0</td>\n",
       "      <td>2.0</td>\n",
       "      <td>392.176400</td>\n",
       "    </tr>\n",
       "    <tr>\n",
       "      <th>2</th>\n",
       "      <td>0.80</td>\n",
       "      <td>61.0</td>\n",
       "      <td>57.0</td>\n",
       "      <td>2797</td>\n",
       "      <td>5.0</td>\n",
       "      <td>4.0</td>\n",
       "      <td>2.0</td>\n",
       "      <td>133.001901</td>\n",
       "    </tr>\n",
       "    <tr>\n",
       "      <th>3</th>\n",
       "      <td>0.40</td>\n",
       "      <td>63.3</td>\n",
       "      <td>60.0</td>\n",
       "      <td>630</td>\n",
       "      <td>5.0</td>\n",
       "      <td>5.0</td>\n",
       "      <td>1.0</td>\n",
       "      <td>64.059840</td>\n",
       "    </tr>\n",
       "    <tr>\n",
       "      <th>4</th>\n",
       "      <td>0.31</td>\n",
       "      <td>61.6</td>\n",
       "      <td>55.0</td>\n",
       "      <td>698</td>\n",
       "      <td>4.0</td>\n",
       "      <td>5.0</td>\n",
       "      <td>4.0</td>\n",
       "      <td>51.797610</td>\n",
       "    </tr>\n",
       "    <tr>\n",
       "      <th>...</th>\n",
       "      <td>...</td>\n",
       "      <td>...</td>\n",
       "      <td>...</td>\n",
       "      <td>...</td>\n",
       "      <td>...</td>\n",
       "      <td>...</td>\n",
       "      <td>...</td>\n",
       "      <td>...</td>\n",
       "    </tr>\n",
       "    <tr>\n",
       "      <th>40450</th>\n",
       "      <td>1.11</td>\n",
       "      <td>62.8</td>\n",
       "      <td>61.0</td>\n",
       "      <td>5315</td>\n",
       "      <td>3.0</td>\n",
       "      <td>4.0</td>\n",
       "      <td>3.0</td>\n",
       "      <td>180.060192</td>\n",
       "    </tr>\n",
       "    <tr>\n",
       "      <th>40451</th>\n",
       "      <td>0.73</td>\n",
       "      <td>62.6</td>\n",
       "      <td>56.0</td>\n",
       "      <td>2762</td>\n",
       "      <td>5.0</td>\n",
       "      <td>5.0</td>\n",
       "      <td>4.0</td>\n",
       "      <td>119.231280</td>\n",
       "    </tr>\n",
       "    <tr>\n",
       "      <th>40452</th>\n",
       "      <td>1.26</td>\n",
       "      <td>59.2</td>\n",
       "      <td>60.0</td>\n",
       "      <td>6855</td>\n",
       "      <td>2.0</td>\n",
       "      <td>3.0</td>\n",
       "      <td>5.0</td>\n",
       "      <td>208.046124</td>\n",
       "    </tr>\n",
       "    <tr>\n",
       "      <th>40453</th>\n",
       "      <td>0.72</td>\n",
       "      <td>61.4</td>\n",
       "      <td>56.0</td>\n",
       "      <td>2297</td>\n",
       "      <td>4.0</td>\n",
       "      <td>5.0</td>\n",
       "      <td>2.0</td>\n",
       "      <td>119.547648</td>\n",
       "    </tr>\n",
       "    <tr>\n",
       "      <th>40454</th>\n",
       "      <td>0.54</td>\n",
       "      <td>60.8</td>\n",
       "      <td>59.0</td>\n",
       "      <td>1356</td>\n",
       "      <td>4.0</td>\n",
       "      <td>4.0</td>\n",
       "      <td>3.0</td>\n",
       "      <td>87.923099</td>\n",
       "    </tr>\n",
       "  </tbody>\n",
       "</table>\n",
       "<p>40455 rows × 8 columns</p>\n",
       "</div>"
      ],
      "text/plain": [
       "       carat  depth  table  price  color_num  cut_num  clarity_num      volume\n",
       "0       2.26   61.9   57.0  12831        4.0      5.0          2.0  366.903680\n",
       "1       2.43   63.2   57.0  16170        3.0      3.0          2.0  392.176400\n",
       "2       0.80   61.0   57.0   2797        5.0      4.0          2.0  133.001901\n",
       "3       0.40   63.3   60.0    630        5.0      5.0          1.0   64.059840\n",
       "4       0.31   61.6   55.0    698        4.0      5.0          4.0   51.797610\n",
       "...      ...    ...    ...    ...        ...      ...          ...         ...\n",
       "40450   1.11   62.8   61.0   5315        3.0      4.0          3.0  180.060192\n",
       "40451   0.73   62.6   56.0   2762        5.0      5.0          4.0  119.231280\n",
       "40452   1.26   59.2   60.0   6855        2.0      3.0          5.0  208.046124\n",
       "40453   0.72   61.4   56.0   2297        4.0      5.0          2.0  119.547648\n",
       "40454   0.54   60.8   59.0   1356        4.0      4.0          3.0   87.923099\n",
       "\n",
       "[40455 rows x 8 columns]"
      ]
     },
     "execution_count": 183,
     "metadata": {},
     "output_type": "execute_result"
    }
   ],
   "source": [
    "diamonds"
   ]
  },
  {
   "cell_type": "code",
   "execution_count": 137,
   "metadata": {},
   "outputs": [
    {
     "name": "stdout",
     "output_type": "stream",
     "text": [
      "Checking whether there is an H2O instance running at http://localhost:54321 . connected.\n"
     ]
    },
    {
     "data": {
      "text/html": [
       "<div style=\"overflow:auto\"><table style=\"width:50%\"><tr><td>H2O cluster uptime:</td>\n",
       "<td>1 hour 2 mins</td></tr>\n",
       "<tr><td>H2O cluster timezone:</td>\n",
       "<td>Europe/Madrid</td></tr>\n",
       "<tr><td>H2O data parsing timezone:</td>\n",
       "<td>UTC</td></tr>\n",
       "<tr><td>H2O cluster version:</td>\n",
       "<td>3.26.0.11</td></tr>\n",
       "<tr><td>H2O cluster version age:</td>\n",
       "<td>3 days </td></tr>\n",
       "<tr><td>H2O cluster name:</td>\n",
       "<td>H2O_from_python_mariobru_4n4h1g</td></tr>\n",
       "<tr><td>H2O cluster total nodes:</td>\n",
       "<td>1</td></tr>\n",
       "<tr><td>H2O cluster free memory:</td>\n",
       "<td>22.78 Gb</td></tr>\n",
       "<tr><td>H2O cluster total cores:</td>\n",
       "<td>12</td></tr>\n",
       "<tr><td>H2O cluster allowed cores:</td>\n",
       "<td>12</td></tr>\n",
       "<tr><td>H2O cluster status:</td>\n",
       "<td>locked, healthy</td></tr>\n",
       "<tr><td>H2O connection url:</td>\n",
       "<td>http://localhost:54321</td></tr>\n",
       "<tr><td>H2O connection proxy:</td>\n",
       "<td>{'http': None, 'https': None}</td></tr>\n",
       "<tr><td>H2O internal security:</td>\n",
       "<td>False</td></tr>\n",
       "<tr><td>H2O API Extensions:</td>\n",
       "<td>Amazon S3, XGBoost, Algos, AutoML, Core V3, TargetEncoder, Core V4</td></tr>\n",
       "<tr><td>Python version:</td>\n",
       "<td>3.6.9 final</td></tr></table></div>"
      ],
      "text/plain": [
       "--------------------------  ------------------------------------------------------------------\n",
       "H2O cluster uptime:         1 hour 2 mins\n",
       "H2O cluster timezone:       Europe/Madrid\n",
       "H2O data parsing timezone:  UTC\n",
       "H2O cluster version:        3.26.0.11\n",
       "H2O cluster version age:    3 days\n",
       "H2O cluster name:           H2O_from_python_mariobru_4n4h1g\n",
       "H2O cluster total nodes:    1\n",
       "H2O cluster free memory:    22.78 Gb\n",
       "H2O cluster total cores:    12\n",
       "H2O cluster allowed cores:  12\n",
       "H2O cluster status:         locked, healthy\n",
       "H2O connection url:         http://localhost:54321\n",
       "H2O connection proxy:       {'http': None, 'https': None}\n",
       "H2O internal security:      False\n",
       "H2O API Extensions:         Amazon S3, XGBoost, Algos, AutoML, Core V3, TargetEncoder, Core V4\n",
       "Python version:             3.6.9 final\n",
       "--------------------------  ------------------------------------------------------------------"
      ]
     },
     "metadata": {},
     "output_type": "display_data"
    }
   ],
   "source": [
    "h2o.init(nthreads = -1, max_mem_size = 26)"
   ]
  },
  {
   "cell_type": "code",
   "execution_count": 184,
   "metadata": {},
   "outputs": [
    {
     "name": "stdout",
     "output_type": "stream",
     "text": [
      "Parse progress: |█████████████████████████████████████████████████████████| 100%\n"
     ]
    }
   ],
   "source": [
    "diamonds_h2o=h2o.H2OFrame(diamonds)"
   ]
  },
  {
   "cell_type": "code",
   "execution_count": 185,
   "metadata": {},
   "outputs": [
    {
     "data": {
      "text/html": [
       "<table>\n",
       "<thead>\n",
       "<tr><th style=\"text-align: right;\">  carat</th><th style=\"text-align: right;\">  depth</th><th style=\"text-align: right;\">  table</th><th style=\"text-align: right;\">  price</th><th style=\"text-align: right;\">  color_num</th><th style=\"text-align: right;\">  cut_num</th><th style=\"text-align: right;\">  clarity_num</th><th style=\"text-align: right;\">  volume</th></tr>\n",
       "</thead>\n",
       "<tbody>\n",
       "<tr><td style=\"text-align: right;\">   2.26</td><td style=\"text-align: right;\">   61.9</td><td style=\"text-align: right;\">     57</td><td style=\"text-align: right;\">  12831</td><td style=\"text-align: right;\">          4</td><td style=\"text-align: right;\">        5</td><td style=\"text-align: right;\">            2</td><td style=\"text-align: right;\">366.904 </td></tr>\n",
       "<tr><td style=\"text-align: right;\">   2.43</td><td style=\"text-align: right;\">   63.2</td><td style=\"text-align: right;\">     57</td><td style=\"text-align: right;\">  16170</td><td style=\"text-align: right;\">          3</td><td style=\"text-align: right;\">        3</td><td style=\"text-align: right;\">            2</td><td style=\"text-align: right;\">392.176 </td></tr>\n",
       "<tr><td style=\"text-align: right;\">   0.8 </td><td style=\"text-align: right;\">   61  </td><td style=\"text-align: right;\">     57</td><td style=\"text-align: right;\">   2797</td><td style=\"text-align: right;\">          5</td><td style=\"text-align: right;\">        4</td><td style=\"text-align: right;\">            2</td><td style=\"text-align: right;\">133.002 </td></tr>\n",
       "<tr><td style=\"text-align: right;\">   0.4 </td><td style=\"text-align: right;\">   63.3</td><td style=\"text-align: right;\">     60</td><td style=\"text-align: right;\">    630</td><td style=\"text-align: right;\">          5</td><td style=\"text-align: right;\">        5</td><td style=\"text-align: right;\">            1</td><td style=\"text-align: right;\"> 64.0598</td></tr>\n",
       "<tr><td style=\"text-align: right;\">   0.31</td><td style=\"text-align: right;\">   61.6</td><td style=\"text-align: right;\">     55</td><td style=\"text-align: right;\">    698</td><td style=\"text-align: right;\">          4</td><td style=\"text-align: right;\">        5</td><td style=\"text-align: right;\">            4</td><td style=\"text-align: right;\"> 51.7976</td></tr>\n",
       "<tr><td style=\"text-align: right;\">   0.53</td><td style=\"text-align: right;\">   60.5</td><td style=\"text-align: right;\">     60</td><td style=\"text-align: right;\">   1132</td><td style=\"text-align: right;\">          5</td><td style=\"text-align: right;\">        3</td><td style=\"text-align: right;\">            2</td><td style=\"text-align: right;\"> 85.5027</td></tr>\n",
       "<tr><td style=\"text-align: right;\">   0.7 </td><td style=\"text-align: right;\">   60.8</td><td style=\"text-align: right;\">     61</td><td style=\"text-align: right;\">   1987</td><td style=\"text-align: right;\">          7</td><td style=\"text-align: right;\">        4</td><td style=\"text-align: right;\">            2</td><td style=\"text-align: right;\">110.716 </td></tr>\n",
       "<tr><td style=\"text-align: right;\">   1.13</td><td style=\"text-align: right;\">   64  </td><td style=\"text-align: right;\">     58</td><td style=\"text-align: right;\">   3952</td><td style=\"text-align: right;\">          5</td><td style=\"text-align: right;\">        2</td><td style=\"text-align: right;\">            2</td><td style=\"text-align: right;\">179.758 </td></tr>\n",
       "<tr><td style=\"text-align: right;\">   0.35</td><td style=\"text-align: right;\">   60.9</td><td style=\"text-align: right;\">     55</td><td style=\"text-align: right;\">    614</td><td style=\"text-align: right;\">          6</td><td style=\"text-align: right;\">        5</td><td style=\"text-align: right;\">            3</td><td style=\"text-align: right;\"> 57.3448</td></tr>\n",
       "<tr><td style=\"text-align: right;\">   1.01</td><td style=\"text-align: right;\">   61.4</td><td style=\"text-align: right;\">     66</td><td style=\"text-align: right;\">   5062</td><td style=\"text-align: right;\">          3</td><td style=\"text-align: right;\">        1</td><td style=\"text-align: right;\">            5</td><td style=\"text-align: right;\">153.103 </td></tr>\n",
       "</tbody>\n",
       "</table>"
      ]
     },
     "metadata": {},
     "output_type": "display_data"
    },
    {
     "data": {
      "text/plain": []
     },
     "execution_count": 185,
     "metadata": {},
     "output_type": "execute_result"
    }
   ],
   "source": [
    "diamonds_h2o.head()"
   ]
  },
  {
   "cell_type": "code",
   "execution_count": 186,
   "metadata": {},
   "outputs": [],
   "source": [
    "y_columns = \"price\"\n",
    "x_columns = [\"carat\",\"color_num\",\"cut_num\",\"clarity_num\",\"depth\"]"
   ]
  },
  {
   "cell_type": "code",
   "execution_count": null,
   "metadata": {},
   "outputs": [],
   "source": []
  },
  {
   "cell_type": "code",
   "execution_count": 187,
   "metadata": {},
   "outputs": [],
   "source": [
    "train, test=diamonds_h2o.split_frame(ratios = [.8])\n",
    "X_train=train[x_columns]\n",
    "y_train=train[y_columns]\n",
    "X_test=test[x_columns]\n",
    "y_test=test[y_columns]"
   ]
  },
  {
   "cell_type": "code",
   "execution_count": 188,
   "metadata": {},
   "outputs": [
    {
     "name": "stdout",
     "output_type": "stream",
     "text": [
      "AutoML progress: |████████████████████████████████████████████████████████| 100%\n"
     ]
    }
   ],
   "source": [
    "from h2o.automl import H2OAutoML\n",
    "aml_ti = H2OAutoML(max_runtime_secs= 180,max_models= 15, seed= 1, nfolds=0)\n",
    "aml_ti.train(x = x_columns, y = y_columns, training_frame = train, validation_frame=test)"
   ]
  },
  {
   "cell_type": "code",
   "execution_count": 189,
   "metadata": {},
   "outputs": [
    {
     "data": {
      "text/html": [
       "<table>\n",
       "<thead>\n",
       "<tr><th>model_id                                     </th><th style=\"text-align: right;\">  mean_residual_deviance</th><th style=\"text-align: right;\">   rmse</th><th style=\"text-align: right;\">   mse</th><th style=\"text-align: right;\">    mae</th><th style=\"text-align: right;\">   rmsle</th></tr>\n",
       "</thead>\n",
       "<tbody>\n",
       "<tr><td>GBM_1_AutoML_20191209_135213                 </td><td style=\"text-align: right;\">                  319693</td><td style=\"text-align: right;\">565.414</td><td style=\"text-align: right;\">319693</td><td style=\"text-align: right;\">293.579</td><td style=\"text-align: right;\">0.114556</td></tr>\n",
       "<tr><td>XGBoost_1_AutoML_20191209_135213             </td><td style=\"text-align: right;\">                  322496</td><td style=\"text-align: right;\">567.887</td><td style=\"text-align: right;\">322496</td><td style=\"text-align: right;\">287.981</td><td style=\"text-align: right;\">0.105622</td></tr>\n",
       "<tr><td>XGBoost_3_AutoML_20191209_135213             </td><td style=\"text-align: right;\">                  328277</td><td style=\"text-align: right;\">572.955</td><td style=\"text-align: right;\">328277</td><td style=\"text-align: right;\">299.554</td><td style=\"text-align: right;\">0.118841</td></tr>\n",
       "<tr><td>GBM_3_AutoML_20191209_135213                 </td><td style=\"text-align: right;\">                  331734</td><td style=\"text-align: right;\">575.964</td><td style=\"text-align: right;\">331734</td><td style=\"text-align: right;\">293.025</td><td style=\"text-align: right;\">0.109414</td></tr>\n",
       "<tr><td>GBM_2_AutoML_20191209_135213                 </td><td style=\"text-align: right;\">                  331929</td><td style=\"text-align: right;\">576.133</td><td style=\"text-align: right;\">331929</td><td style=\"text-align: right;\">295.178</td><td style=\"text-align: right;\">0.112426</td></tr>\n",
       "<tr><td>XGBoost_2_AutoML_20191209_135213             </td><td style=\"text-align: right;\">                  332384</td><td style=\"text-align: right;\">576.528</td><td style=\"text-align: right;\">332384</td><td style=\"text-align: right;\">293.114</td><td style=\"text-align: right;\">0.10929 </td></tr>\n",
       "<tr><td>GBM_5_AutoML_20191209_135213                 </td><td style=\"text-align: right;\">                  332785</td><td style=\"text-align: right;\">576.876</td><td style=\"text-align: right;\">332785</td><td style=\"text-align: right;\">293.147</td><td style=\"text-align: right;\">0.10781 </td></tr>\n",
       "<tr><td>GBM_4_AutoML_20191209_135213                 </td><td style=\"text-align: right;\">                  337598</td><td style=\"text-align: right;\">581.031</td><td style=\"text-align: right;\">337598</td><td style=\"text-align: right;\">294.669</td><td style=\"text-align: right;\">0.108885</td></tr>\n",
       "<tr><td>XGBoost_grid_1_AutoML_20191209_135213_model_1</td><td style=\"text-align: right;\">                  369610</td><td style=\"text-align: right;\">607.956</td><td style=\"text-align: right;\">369610</td><td style=\"text-align: right;\">303.109</td><td style=\"text-align: right;\">0.108562</td></tr>\n",
       "<tr><td>DRF_1_AutoML_20191209_135213                 </td><td style=\"text-align: right;\">                  372539</td><td style=\"text-align: right;\">610.36 </td><td style=\"text-align: right;\">372539</td><td style=\"text-align: right;\">311.985</td><td style=\"text-align: right;\">0.120238</td></tr>\n",
       "</tbody>\n",
       "</table>"
      ]
     },
     "metadata": {},
     "output_type": "display_data"
    },
    {
     "data": {
      "text/plain": []
     },
     "execution_count": 189,
     "metadata": {},
     "output_type": "execute_result"
    }
   ],
   "source": [
    "lb_ti = aml_ti.leaderboard\n",
    "lb_ti"
   ]
  },
  {
   "cell_type": "code",
   "execution_count": 190,
   "metadata": {},
   "outputs": [
    {
     "name": "stdout",
     "output_type": "stream",
     "text": [
      "gbm prediction progress: |████████████████████████████████████████████████| 100%\n"
     ]
    }
   ],
   "source": [
    "pred_automl = aml_ti.leader.predict(test)"
   ]
  },
  {
   "cell_type": "code",
   "execution_count": 191,
   "metadata": {},
   "outputs": [
    {
     "data": {
      "text/html": [
       "<table>\n",
       "<thead>\n",
       "<tr><th style=\"text-align: right;\">  predict</th></tr>\n",
       "</thead>\n",
       "<tbody>\n",
       "<tr><td style=\"text-align: right;\">  662.987</td></tr>\n",
       "<tr><td style=\"text-align: right;\"> 4494.48 </td></tr>\n",
       "<tr><td style=\"text-align: right;\">  679.636</td></tr>\n",
       "<tr><td style=\"text-align: right;\">  643.333</td></tr>\n",
       "<tr><td style=\"text-align: right;\"> 2922.28 </td></tr>\n",
       "<tr><td style=\"text-align: right;\">  852.177</td></tr>\n",
       "<tr><td style=\"text-align: right;\">  710.269</td></tr>\n",
       "<tr><td style=\"text-align: right;\">  671.012</td></tr>\n",
       "<tr><td style=\"text-align: right;\">11479.9  </td></tr>\n",
       "<tr><td style=\"text-align: right;\">  869.73 </td></tr>\n",
       "</tbody>\n",
       "</table>"
      ]
     },
     "metadata": {},
     "output_type": "display_data"
    },
    {
     "data": {
      "text/plain": []
     },
     "execution_count": 191,
     "metadata": {},
     "output_type": "execute_result"
    }
   ],
   "source": [
    "pred_automl"
   ]
  },
  {
   "cell_type": "code",
   "execution_count": 192,
   "metadata": {},
   "outputs": [
    {
     "data": {
      "text/html": [
       "<table>\n",
       "<thead>\n",
       "<tr><th style=\"text-align: right;\">  price</th></tr>\n",
       "</thead>\n",
       "<tbody>\n",
       "<tr><td style=\"text-align: right;\">    698</td></tr>\n",
       "<tr><td style=\"text-align: right;\">   3952</td></tr>\n",
       "<tr><td style=\"text-align: right;\">    614</td></tr>\n",
       "<tr><td style=\"text-align: right;\">    552</td></tr>\n",
       "<tr><td style=\"text-align: right;\">   2775</td></tr>\n",
       "<tr><td style=\"text-align: right;\">    741</td></tr>\n",
       "<tr><td style=\"text-align: right;\">    596</td></tr>\n",
       "<tr><td style=\"text-align: right;\">    727</td></tr>\n",
       "<tr><td style=\"text-align: right;\">  11565</td></tr>\n",
       "<tr><td style=\"text-align: right;\">    825</td></tr>\n",
       "</tbody>\n",
       "</table>"
      ]
     },
     "metadata": {},
     "output_type": "display_data"
    },
    {
     "data": {
      "text/plain": []
     },
     "execution_count": 192,
     "metadata": {},
     "output_type": "execute_result"
    }
   ],
   "source": [
    "y_test"
   ]
  },
  {
   "cell_type": "code",
   "execution_count": 193,
   "metadata": {},
   "outputs": [],
   "source": [
    "#Probamos con test"
   ]
  },
  {
   "cell_type": "code",
   "execution_count": 194,
   "metadata": {},
   "outputs": [],
   "source": [
    "diamonds_test =  pd.read_csv('./diamonds-datamad1019/test.csv')"
   ]
  },
  {
   "cell_type": "code",
   "execution_count": 195,
   "metadata": {},
   "outputs": [],
   "source": [
    "for i in range(len(diamonds_test)):\n",
    "    co = color[diamonds_test.loc[i, \"color\"]]\n",
    "    cu = cut[diamonds_test.loc[i, \"cut\"]]\n",
    "    cl = clarity[diamonds_test.loc[i, \"clarity\"]]\n",
    "    diamonds_test.loc[i, \"color_num\"] = co\n",
    "    diamonds_test.loc[i, \"cut_num\"] = cu\n",
    "    diamonds_test.loc[i, \"clarity_num\"] = cl"
   ]
  },
  {
   "cell_type": "code",
   "execution_count": 196,
   "metadata": {},
   "outputs": [],
   "source": [
    "diamonds_test.drop(columns=['cut','color','clarity'], inplace=True)"
   ]
  },
  {
   "cell_type": "code",
   "execution_count": 197,
   "metadata": {},
   "outputs": [],
   "source": [
    "diamonds_test['volume'] = diamonds_test['x']*diamonds_test['y']*diamonds_test['z']\n",
    "diamonds_test.drop(['x','y','z'],axis=1,inplace=True)"
   ]
  },
  {
   "cell_type": "code",
   "execution_count": 198,
   "metadata": {},
   "outputs": [
    {
     "name": "stdout",
     "output_type": "stream",
     "text": [
      "Parse progress: |█████████████████████████████████████████████████████████| 100%\n"
     ]
    }
   ],
   "source": [
    "diamonds_h2o=h2o.H2OFrame(diamonds_test)"
   ]
  },
  {
   "cell_type": "code",
   "execution_count": 199,
   "metadata": {},
   "outputs": [],
   "source": [
    "x_columns = [\"carat\",\"color_num\",\"cut_num\",\"clarity_num\",\"depth\"]"
   ]
  },
  {
   "cell_type": "code",
   "execution_count": 200,
   "metadata": {},
   "outputs": [],
   "source": [
    "X_train=diamonds_h2o[x_columns]"
   ]
  },
  {
   "cell_type": "code",
   "execution_count": 201,
   "metadata": {},
   "outputs": [
    {
     "name": "stdout",
     "output_type": "stream",
     "text": [
      "gbm prediction progress: |████████████████████████████████████████████████| 100%\n"
     ]
    }
   ],
   "source": [
    "pred_automl = aml_ti.leader.predict(X_train)"
   ]
  },
  {
   "cell_type": "code",
   "execution_count": 202,
   "metadata": {},
   "outputs": [
    {
     "data": {
      "text/html": [
       "<table>\n",
       "<thead>\n",
       "<tr><th style=\"text-align: right;\">  predict</th></tr>\n",
       "</thead>\n",
       "<tbody>\n",
       "<tr><td style=\"text-align: right;\"> 1358.16 </td></tr>\n",
       "<tr><td style=\"text-align: right;\"> 6572.92 </td></tr>\n",
       "<tr><td style=\"text-align: right;\"> 1662.38 </td></tr>\n",
       "<tr><td style=\"text-align: right;\"> 4007.66 </td></tr>\n",
       "<tr><td style=\"text-align: right;\"> 1803.2  </td></tr>\n",
       "<tr><td style=\"text-align: right;\"> 9629.6  </td></tr>\n",
       "<tr><td style=\"text-align: right;\">  790.261</td></tr>\n",
       "<tr><td style=\"text-align: right;\">  899.943</td></tr>\n",
       "<tr><td style=\"text-align: right;\">  702.668</td></tr>\n",
       "<tr><td style=\"text-align: right;\">14080.4  </td></tr>\n",
       "</tbody>\n",
       "</table>"
      ]
     },
     "metadata": {},
     "output_type": "display_data"
    },
    {
     "data": {
      "text/plain": []
     },
     "execution_count": 202,
     "metadata": {},
     "output_type": "execute_result"
    }
   ],
   "source": [
    "pred_automl"
   ]
  },
  {
   "cell_type": "code",
   "execution_count": 203,
   "metadata": {},
   "outputs": [],
   "source": [
    "submission = pred_automl.as_data_frame()"
   ]
  },
  {
   "cell_type": "code",
   "execution_count": 204,
   "metadata": {
    "scrolled": true
   },
   "outputs": [
    {
     "data": {
      "text/html": [
       "<div>\n",
       "<style scoped>\n",
       "    .dataframe tbody tr th:only-of-type {\n",
       "        vertical-align: middle;\n",
       "    }\n",
       "\n",
       "    .dataframe tbody tr th {\n",
       "        vertical-align: top;\n",
       "    }\n",
       "\n",
       "    .dataframe thead th {\n",
       "        text-align: right;\n",
       "    }\n",
       "</style>\n",
       "<table border=\"1\" class=\"dataframe\">\n",
       "  <thead>\n",
       "    <tr style=\"text-align: right;\">\n",
       "      <th></th>\n",
       "      <th>predict</th>\n",
       "    </tr>\n",
       "  </thead>\n",
       "  <tbody>\n",
       "    <tr>\n",
       "      <th>0</th>\n",
       "      <td>1358.155372</td>\n",
       "    </tr>\n",
       "    <tr>\n",
       "      <th>1</th>\n",
       "      <td>6572.915062</td>\n",
       "    </tr>\n",
       "    <tr>\n",
       "      <th>2</th>\n",
       "      <td>1662.377156</td>\n",
       "    </tr>\n",
       "    <tr>\n",
       "      <th>3</th>\n",
       "      <td>4007.664219</td>\n",
       "    </tr>\n",
       "    <tr>\n",
       "      <th>4</th>\n",
       "      <td>1803.203048</td>\n",
       "    </tr>\n",
       "    <tr>\n",
       "      <th>...</th>\n",
       "      <td>...</td>\n",
       "    </tr>\n",
       "    <tr>\n",
       "      <th>13480</th>\n",
       "      <td>2167.678827</td>\n",
       "    </tr>\n",
       "    <tr>\n",
       "      <th>13481</th>\n",
       "      <td>2150.039667</td>\n",
       "    </tr>\n",
       "    <tr>\n",
       "      <th>13482</th>\n",
       "      <td>11314.476398</td>\n",
       "    </tr>\n",
       "    <tr>\n",
       "      <th>13483</th>\n",
       "      <td>525.726962</td>\n",
       "    </tr>\n",
       "    <tr>\n",
       "      <th>13484</th>\n",
       "      <td>1230.205018</td>\n",
       "    </tr>\n",
       "  </tbody>\n",
       "</table>\n",
       "<p>13485 rows × 1 columns</p>\n",
       "</div>"
      ],
      "text/plain": [
       "            predict\n",
       "0       1358.155372\n",
       "1       6572.915062\n",
       "2       1662.377156\n",
       "3       4007.664219\n",
       "4       1803.203048\n",
       "...             ...\n",
       "13480   2167.678827\n",
       "13481   2150.039667\n",
       "13482  11314.476398\n",
       "13483    525.726962\n",
       "13484   1230.205018\n",
       "\n",
       "[13485 rows x 1 columns]"
      ]
     },
     "execution_count": 204,
     "metadata": {},
     "output_type": "execute_result"
    }
   ],
   "source": [
    "submission"
   ]
  },
  {
   "cell_type": "code",
   "execution_count": 205,
   "metadata": {},
   "outputs": [
    {
     "data": {
      "text/html": [
       "<div>\n",
       "<style scoped>\n",
       "    .dataframe tbody tr th:only-of-type {\n",
       "        vertical-align: middle;\n",
       "    }\n",
       "\n",
       "    .dataframe tbody tr th {\n",
       "        vertical-align: top;\n",
       "    }\n",
       "\n",
       "    .dataframe thead th {\n",
       "        text-align: right;\n",
       "    }\n",
       "</style>\n",
       "<table border=\"1\" class=\"dataframe\">\n",
       "  <thead>\n",
       "    <tr style=\"text-align: right;\">\n",
       "      <th></th>\n",
       "      <th>price</th>\n",
       "    </tr>\n",
       "  </thead>\n",
       "  <tbody>\n",
       "    <tr>\n",
       "      <th>0</th>\n",
       "      <td>1358.155372</td>\n",
       "    </tr>\n",
       "    <tr>\n",
       "      <th>1</th>\n",
       "      <td>6572.915062</td>\n",
       "    </tr>\n",
       "    <tr>\n",
       "      <th>2</th>\n",
       "      <td>1662.377156</td>\n",
       "    </tr>\n",
       "    <tr>\n",
       "      <th>3</th>\n",
       "      <td>4007.664219</td>\n",
       "    </tr>\n",
       "    <tr>\n",
       "      <th>4</th>\n",
       "      <td>1803.203048</td>\n",
       "    </tr>\n",
       "    <tr>\n",
       "      <th>...</th>\n",
       "      <td>...</td>\n",
       "    </tr>\n",
       "    <tr>\n",
       "      <th>13480</th>\n",
       "      <td>2167.678827</td>\n",
       "    </tr>\n",
       "    <tr>\n",
       "      <th>13481</th>\n",
       "      <td>2150.039667</td>\n",
       "    </tr>\n",
       "    <tr>\n",
       "      <th>13482</th>\n",
       "      <td>11314.476398</td>\n",
       "    </tr>\n",
       "    <tr>\n",
       "      <th>13483</th>\n",
       "      <td>525.726962</td>\n",
       "    </tr>\n",
       "    <tr>\n",
       "      <th>13484</th>\n",
       "      <td>1230.205018</td>\n",
       "    </tr>\n",
       "  </tbody>\n",
       "</table>\n",
       "<p>13485 rows × 1 columns</p>\n",
       "</div>"
      ],
      "text/plain": [
       "              price\n",
       "0       1358.155372\n",
       "1       6572.915062\n",
       "2       1662.377156\n",
       "3       4007.664219\n",
       "4       1803.203048\n",
       "...             ...\n",
       "13480   2167.678827\n",
       "13481   2150.039667\n",
       "13482  11314.476398\n",
       "13483    525.726962\n",
       "13484   1230.205018\n",
       "\n",
       "[13485 rows x 1 columns]"
      ]
     },
     "execution_count": 205,
     "metadata": {},
     "output_type": "execute_result"
    }
   ],
   "source": [
    "submission.rename(columns={\"predict\": \"price\"}, inplace=True)\n",
    "submission"
   ]
  },
  {
   "cell_type": "code",
   "execution_count": 206,
   "metadata": {},
   "outputs": [],
   "source": [
    "submission.price = submission.price.astype(int)\n"
   ]
  },
  {
   "cell_type": "code",
   "execution_count": 207,
   "metadata": {},
   "outputs": [
    {
     "data": {
      "text/html": [
       "<div>\n",
       "<style scoped>\n",
       "    .dataframe tbody tr th:only-of-type {\n",
       "        vertical-align: middle;\n",
       "    }\n",
       "\n",
       "    .dataframe tbody tr th {\n",
       "        vertical-align: top;\n",
       "    }\n",
       "\n",
       "    .dataframe thead th {\n",
       "        text-align: right;\n",
       "    }\n",
       "</style>\n",
       "<table border=\"1\" class=\"dataframe\">\n",
       "  <thead>\n",
       "    <tr style=\"text-align: right;\">\n",
       "      <th></th>\n",
       "      <th>price</th>\n",
       "    </tr>\n",
       "  </thead>\n",
       "  <tbody>\n",
       "    <tr>\n",
       "      <th>0</th>\n",
       "      <td>1358</td>\n",
       "    </tr>\n",
       "    <tr>\n",
       "      <th>1</th>\n",
       "      <td>6572</td>\n",
       "    </tr>\n",
       "    <tr>\n",
       "      <th>2</th>\n",
       "      <td>1662</td>\n",
       "    </tr>\n",
       "    <tr>\n",
       "      <th>3</th>\n",
       "      <td>4007</td>\n",
       "    </tr>\n",
       "    <tr>\n",
       "      <th>4</th>\n",
       "      <td>1803</td>\n",
       "    </tr>\n",
       "    <tr>\n",
       "      <th>...</th>\n",
       "      <td>...</td>\n",
       "    </tr>\n",
       "    <tr>\n",
       "      <th>13480</th>\n",
       "      <td>2167</td>\n",
       "    </tr>\n",
       "    <tr>\n",
       "      <th>13481</th>\n",
       "      <td>2150</td>\n",
       "    </tr>\n",
       "    <tr>\n",
       "      <th>13482</th>\n",
       "      <td>11314</td>\n",
       "    </tr>\n",
       "    <tr>\n",
       "      <th>13483</th>\n",
       "      <td>525</td>\n",
       "    </tr>\n",
       "    <tr>\n",
       "      <th>13484</th>\n",
       "      <td>1230</td>\n",
       "    </tr>\n",
       "  </tbody>\n",
       "</table>\n",
       "<p>13485 rows × 1 columns</p>\n",
       "</div>"
      ],
      "text/plain": [
       "       price\n",
       "0       1358\n",
       "1       6572\n",
       "2       1662\n",
       "3       4007\n",
       "4       1803\n",
       "...      ...\n",
       "13480   2167\n",
       "13481   2150\n",
       "13482  11314\n",
       "13483    525\n",
       "13484   1230\n",
       "\n",
       "[13485 rows x 1 columns]"
      ]
     },
     "execution_count": 207,
     "metadata": {},
     "output_type": "execute_result"
    }
   ],
   "source": [
    "submission"
   ]
  },
  {
   "cell_type": "code",
   "execution_count": 208,
   "metadata": {},
   "outputs": [],
   "source": [
    "submission.to_csv('./diamonds-datamad1019/submission.csv')"
   ]
  },
  {
   "cell_type": "code",
   "execution_count": null,
   "metadata": {},
   "outputs": [],
   "source": []
  }
 ],
 "metadata": {
  "kernelspec": {
   "display_name": "Python 3",
   "language": "python",
   "name": "python3"
  },
  "language_info": {
   "codemirror_mode": {
    "name": "ipython",
    "version": 3
   },
   "file_extension": ".py",
   "mimetype": "text/x-python",
   "name": "python",
   "nbconvert_exporter": "python",
   "pygments_lexer": "ipython3",
   "version": "3.6.9"
  }
 },
 "nbformat": 4,
 "nbformat_minor": 2
}
