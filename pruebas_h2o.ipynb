{
 "cells": [
  {
   "cell_type": "code",
   "execution_count": 46,
   "metadata": {},
   "outputs": [],
   "source": [
    "import h2o\n",
    "import src.dataCleaning as dc\n",
    "from h2o.automl import H2OAutoML"
   ]
  },
  {
   "cell_type": "code",
   "execution_count": 47,
   "metadata": {},
   "outputs": [],
   "source": [
    "diamonds =  pd.read_csv('./diamonds-datamad1019/data.csv/data.csv')"
   ]
  },
  {
   "cell_type": "code",
   "execution_count": 48,
   "metadata": {},
   "outputs": [],
   "source": [
    "diamonds = dc.dfCleaning(diamonds)"
   ]
  },
  {
   "cell_type": "code",
   "execution_count": 49,
   "metadata": {},
   "outputs": [
    {
     "data": {
      "text/html": [
       "<div>\n",
       "<style scoped>\n",
       "    .dataframe tbody tr th:only-of-type {\n",
       "        vertical-align: middle;\n",
       "    }\n",
       "\n",
       "    .dataframe tbody tr th {\n",
       "        vertical-align: top;\n",
       "    }\n",
       "\n",
       "    .dataframe thead th {\n",
       "        text-align: right;\n",
       "    }\n",
       "</style>\n",
       "<table border=\"1\" class=\"dataframe\">\n",
       "  <thead>\n",
       "    <tr style=\"text-align: right;\">\n",
       "      <th></th>\n",
       "      <th>carat</th>\n",
       "      <th>depth</th>\n",
       "      <th>table</th>\n",
       "      <th>price</th>\n",
       "      <th>color_num</th>\n",
       "      <th>cut_num</th>\n",
       "      <th>clarity_num</th>\n",
       "      <th>volume</th>\n",
       "    </tr>\n",
       "  </thead>\n",
       "  <tbody>\n",
       "    <tr>\n",
       "      <th>0</th>\n",
       "      <td>2.26</td>\n",
       "      <td>61.9</td>\n",
       "      <td>57.0</td>\n",
       "      <td>12831</td>\n",
       "      <td>4.0</td>\n",
       "      <td>5.0</td>\n",
       "      <td>2.0</td>\n",
       "      <td>366.903680</td>\n",
       "    </tr>\n",
       "    <tr>\n",
       "      <th>1</th>\n",
       "      <td>2.43</td>\n",
       "      <td>63.2</td>\n",
       "      <td>57.0</td>\n",
       "      <td>16170</td>\n",
       "      <td>3.0</td>\n",
       "      <td>3.0</td>\n",
       "      <td>2.0</td>\n",
       "      <td>392.176400</td>\n",
       "    </tr>\n",
       "    <tr>\n",
       "      <th>2</th>\n",
       "      <td>0.80</td>\n",
       "      <td>61.0</td>\n",
       "      <td>57.0</td>\n",
       "      <td>2797</td>\n",
       "      <td>5.0</td>\n",
       "      <td>4.0</td>\n",
       "      <td>2.0</td>\n",
       "      <td>133.001901</td>\n",
       "    </tr>\n",
       "    <tr>\n",
       "      <th>3</th>\n",
       "      <td>0.40</td>\n",
       "      <td>63.3</td>\n",
       "      <td>60.0</td>\n",
       "      <td>630</td>\n",
       "      <td>5.0</td>\n",
       "      <td>5.0</td>\n",
       "      <td>1.0</td>\n",
       "      <td>64.059840</td>\n",
       "    </tr>\n",
       "    <tr>\n",
       "      <th>4</th>\n",
       "      <td>0.31</td>\n",
       "      <td>61.6</td>\n",
       "      <td>55.0</td>\n",
       "      <td>698</td>\n",
       "      <td>4.0</td>\n",
       "      <td>5.0</td>\n",
       "      <td>4.0</td>\n",
       "      <td>51.797610</td>\n",
       "    </tr>\n",
       "  </tbody>\n",
       "</table>\n",
       "</div>"
      ],
      "text/plain": [
       "   carat  depth  table  price  color_num  cut_num  clarity_num      volume\n",
       "0   2.26   61.9   57.0  12831        4.0      5.0          2.0  366.903680\n",
       "1   2.43   63.2   57.0  16170        3.0      3.0          2.0  392.176400\n",
       "2   0.80   61.0   57.0   2797        5.0      4.0          2.0  133.001901\n",
       "3   0.40   63.3   60.0    630        5.0      5.0          1.0   64.059840\n",
       "4   0.31   61.6   55.0    698        4.0      5.0          4.0   51.797610"
      ]
     },
     "execution_count": 49,
     "metadata": {},
     "output_type": "execute_result"
    }
   ],
   "source": [
    "diamonds.head()"
   ]
  },
  {
   "cell_type": "code",
   "execution_count": 50,
   "metadata": {},
   "outputs": [
    {
     "name": "stdout",
     "output_type": "stream",
     "text": [
      "Checking whether there is an H2O instance running at http://localhost:54321 . connected.\n"
     ]
    },
    {
     "data": {
      "text/html": [
       "<div style=\"overflow:auto\"><table style=\"width:50%\"><tr><td>H2O cluster uptime:</td>\n",
       "<td>21 mins 06 secs</td></tr>\n",
       "<tr><td>H2O cluster timezone:</td>\n",
       "<td>Europe/Madrid</td></tr>\n",
       "<tr><td>H2O data parsing timezone:</td>\n",
       "<td>UTC</td></tr>\n",
       "<tr><td>H2O cluster version:</td>\n",
       "<td>3.26.0.11</td></tr>\n",
       "<tr><td>H2O cluster version age:</td>\n",
       "<td>4 days </td></tr>\n",
       "<tr><td>H2O cluster name:</td>\n",
       "<td>H2O_from_python_mariobru_khs42j</td></tr>\n",
       "<tr><td>H2O cluster total nodes:</td>\n",
       "<td>1</td></tr>\n",
       "<tr><td>H2O cluster free memory:</td>\n",
       "<td>24.19 Gb</td></tr>\n",
       "<tr><td>H2O cluster total cores:</td>\n",
       "<td>12</td></tr>\n",
       "<tr><td>H2O cluster allowed cores:</td>\n",
       "<td>12</td></tr>\n",
       "<tr><td>H2O cluster status:</td>\n",
       "<td>locked, healthy</td></tr>\n",
       "<tr><td>H2O connection url:</td>\n",
       "<td>http://localhost:54321</td></tr>\n",
       "<tr><td>H2O connection proxy:</td>\n",
       "<td>{'http': None, 'https': None}</td></tr>\n",
       "<tr><td>H2O internal security:</td>\n",
       "<td>False</td></tr>\n",
       "<tr><td>H2O API Extensions:</td>\n",
       "<td>Amazon S3, XGBoost, Algos, AutoML, Core V3, TargetEncoder, Core V4</td></tr>\n",
       "<tr><td>Python version:</td>\n",
       "<td>3.6.9 final</td></tr></table></div>"
      ],
      "text/plain": [
       "--------------------------  ------------------------------------------------------------------\n",
       "H2O cluster uptime:         21 mins 06 secs\n",
       "H2O cluster timezone:       Europe/Madrid\n",
       "H2O data parsing timezone:  UTC\n",
       "H2O cluster version:        3.26.0.11\n",
       "H2O cluster version age:    4 days\n",
       "H2O cluster name:           H2O_from_python_mariobru_khs42j\n",
       "H2O cluster total nodes:    1\n",
       "H2O cluster free memory:    24.19 Gb\n",
       "H2O cluster total cores:    12\n",
       "H2O cluster allowed cores:  12\n",
       "H2O cluster status:         locked, healthy\n",
       "H2O connection url:         http://localhost:54321\n",
       "H2O connection proxy:       {'http': None, 'https': None}\n",
       "H2O internal security:      False\n",
       "H2O API Extensions:         Amazon S3, XGBoost, Algos, AutoML, Core V3, TargetEncoder, Core V4\n",
       "Python version:             3.6.9 final\n",
       "--------------------------  ------------------------------------------------------------------"
      ]
     },
     "metadata": {},
     "output_type": "display_data"
    }
   ],
   "source": [
    "h2o.init(nthreads = -1, max_mem_size = 26)"
   ]
  },
  {
   "cell_type": "code",
   "execution_count": 51,
   "metadata": {},
   "outputs": [
    {
     "name": "stdout",
     "output_type": "stream",
     "text": [
      "Parse progress: |█████████████████████████████████████████████████████████| 100%\n"
     ]
    }
   ],
   "source": [
    "diamonds_h2o=h2o.H2OFrame(diamonds)"
   ]
  },
  {
   "cell_type": "code",
   "execution_count": 52,
   "metadata": {},
   "outputs": [
    {
     "data": {
      "text/html": [
       "<table>\n",
       "<thead>\n",
       "<tr><th style=\"text-align: right;\">  carat</th><th style=\"text-align: right;\">  depth</th><th style=\"text-align: right;\">  table</th><th style=\"text-align: right;\">  price</th><th style=\"text-align: right;\">  color_num</th><th style=\"text-align: right;\">  cut_num</th><th style=\"text-align: right;\">  clarity_num</th><th style=\"text-align: right;\">  volume</th></tr>\n",
       "</thead>\n",
       "<tbody>\n",
       "<tr><td style=\"text-align: right;\">   2.26</td><td style=\"text-align: right;\">   61.9</td><td style=\"text-align: right;\">     57</td><td style=\"text-align: right;\">  12831</td><td style=\"text-align: right;\">          4</td><td style=\"text-align: right;\">        5</td><td style=\"text-align: right;\">            2</td><td style=\"text-align: right;\">366.904 </td></tr>\n",
       "<tr><td style=\"text-align: right;\">   2.43</td><td style=\"text-align: right;\">   63.2</td><td style=\"text-align: right;\">     57</td><td style=\"text-align: right;\">  16170</td><td style=\"text-align: right;\">          3</td><td style=\"text-align: right;\">        3</td><td style=\"text-align: right;\">            2</td><td style=\"text-align: right;\">392.176 </td></tr>\n",
       "<tr><td style=\"text-align: right;\">   0.8 </td><td style=\"text-align: right;\">   61  </td><td style=\"text-align: right;\">     57</td><td style=\"text-align: right;\">   2797</td><td style=\"text-align: right;\">          5</td><td style=\"text-align: right;\">        4</td><td style=\"text-align: right;\">            2</td><td style=\"text-align: right;\">133.002 </td></tr>\n",
       "<tr><td style=\"text-align: right;\">   0.4 </td><td style=\"text-align: right;\">   63.3</td><td style=\"text-align: right;\">     60</td><td style=\"text-align: right;\">    630</td><td style=\"text-align: right;\">          5</td><td style=\"text-align: right;\">        5</td><td style=\"text-align: right;\">            1</td><td style=\"text-align: right;\"> 64.0598</td></tr>\n",
       "<tr><td style=\"text-align: right;\">   0.31</td><td style=\"text-align: right;\">   61.6</td><td style=\"text-align: right;\">     55</td><td style=\"text-align: right;\">    698</td><td style=\"text-align: right;\">          4</td><td style=\"text-align: right;\">        5</td><td style=\"text-align: right;\">            4</td><td style=\"text-align: right;\"> 51.7976</td></tr>\n",
       "<tr><td style=\"text-align: right;\">   0.53</td><td style=\"text-align: right;\">   60.5</td><td style=\"text-align: right;\">     60</td><td style=\"text-align: right;\">   1132</td><td style=\"text-align: right;\">          5</td><td style=\"text-align: right;\">        3</td><td style=\"text-align: right;\">            2</td><td style=\"text-align: right;\"> 85.5027</td></tr>\n",
       "<tr><td style=\"text-align: right;\">   0.7 </td><td style=\"text-align: right;\">   60.8</td><td style=\"text-align: right;\">     61</td><td style=\"text-align: right;\">   1987</td><td style=\"text-align: right;\">          7</td><td style=\"text-align: right;\">        4</td><td style=\"text-align: right;\">            2</td><td style=\"text-align: right;\">110.716 </td></tr>\n",
       "<tr><td style=\"text-align: right;\">   1.13</td><td style=\"text-align: right;\">   64  </td><td style=\"text-align: right;\">     58</td><td style=\"text-align: right;\">   3952</td><td style=\"text-align: right;\">          5</td><td style=\"text-align: right;\">        2</td><td style=\"text-align: right;\">            2</td><td style=\"text-align: right;\">179.758 </td></tr>\n",
       "<tr><td style=\"text-align: right;\">   0.35</td><td style=\"text-align: right;\">   60.9</td><td style=\"text-align: right;\">     55</td><td style=\"text-align: right;\">    614</td><td style=\"text-align: right;\">          6</td><td style=\"text-align: right;\">        5</td><td style=\"text-align: right;\">            3</td><td style=\"text-align: right;\"> 57.3448</td></tr>\n",
       "<tr><td style=\"text-align: right;\">   1.01</td><td style=\"text-align: right;\">   61.4</td><td style=\"text-align: right;\">     66</td><td style=\"text-align: right;\">   5062</td><td style=\"text-align: right;\">          3</td><td style=\"text-align: right;\">        1</td><td style=\"text-align: right;\">            5</td><td style=\"text-align: right;\">153.103 </td></tr>\n",
       "</tbody>\n",
       "</table>"
      ]
     },
     "metadata": {},
     "output_type": "display_data"
    },
    {
     "data": {
      "text/plain": []
     },
     "execution_count": 52,
     "metadata": {},
     "output_type": "execute_result"
    }
   ],
   "source": [
    "diamonds_h2o.head()"
   ]
  },
  {
   "cell_type": "code",
   "execution_count": 55,
   "metadata": {},
   "outputs": [],
   "source": [
    "y_columns = \"price\"\n",
    "x_columns = [\"carat\",\"color_num\",\"cut_num\",\"clarity_num\",\"depth\"]"
   ]
  },
  {
   "cell_type": "code",
   "execution_count": null,
   "metadata": {},
   "outputs": [],
   "source": []
  },
  {
   "cell_type": "code",
   "execution_count": 56,
   "metadata": {},
   "outputs": [],
   "source": [
    "train, test=diamonds_h2o.split_frame(ratios = [.95])\n",
    "X_train=train[x_columns]\n",
    "y_train=train[y_columns]\n",
    "X_test=test[x_columns]\n",
    "y_test=test[y_columns]"
   ]
  },
  {
   "cell_type": "code",
   "execution_count": 57,
   "metadata": {},
   "outputs": [
    {
     "name": "stdout",
     "output_type": "stream",
     "text": [
      "AutoML progress: |████████████████████████████████████████████████████████| 100%\n"
     ]
    }
   ],
   "source": [
    "aml_ti = H2OAutoML(max_runtime_secs= 360,max_models= 15, seed= 1, nfolds=0)\n",
    "aml_ti.train(x = x_columns, y = y_columns, training_frame = train, validation_frame=test)"
   ]
  },
  {
   "cell_type": "code",
   "execution_count": 58,
   "metadata": {},
   "outputs": [
    {
     "data": {
      "text/html": [
       "<table>\n",
       "<thead>\n",
       "<tr><th>model_id                                     </th><th style=\"text-align: right;\">  mean_residual_deviance</th><th style=\"text-align: right;\">   rmse</th><th style=\"text-align: right;\">   mse</th><th style=\"text-align: right;\">    mae</th><th style=\"text-align: right;\">     rmsle</th></tr>\n",
       "</thead>\n",
       "<tbody>\n",
       "<tr><td>GBM_2_AutoML_20191210_002405                 </td><td style=\"text-align: right;\">                  288044</td><td style=\"text-align: right;\">536.697</td><td style=\"text-align: right;\">288044</td><td style=\"text-align: right;\">283.494</td><td style=\"text-align: right;\">  0.112287</td></tr>\n",
       "<tr><td>GBM_3_AutoML_20191210_002405                 </td><td style=\"text-align: right;\">                  293044</td><td style=\"text-align: right;\">541.335</td><td style=\"text-align: right;\">293044</td><td style=\"text-align: right;\">286.631</td><td style=\"text-align: right;\">  0.11575 </td></tr>\n",
       "<tr><td>GBM_1_AutoML_20191210_002405                 </td><td style=\"text-align: right;\">                  293150</td><td style=\"text-align: right;\">541.434</td><td style=\"text-align: right;\">293150</td><td style=\"text-align: right;\">288.829</td><td style=\"text-align: right;\">  0.121441</td></tr>\n",
       "<tr><td>XGBoost_3_AutoML_20191210_002405             </td><td style=\"text-align: right;\">                  295341</td><td style=\"text-align: right;\">543.453</td><td style=\"text-align: right;\">295341</td><td style=\"text-align: right;\">289.085</td><td style=\"text-align: right;\">  0.123173</td></tr>\n",
       "<tr><td>XGBoost_1_AutoML_20191210_002405             </td><td style=\"text-align: right;\">                  300015</td><td style=\"text-align: right;\">547.736</td><td style=\"text-align: right;\">300015</td><td style=\"text-align: right;\">285.257</td><td style=\"text-align: right;\">  0.1112  </td></tr>\n",
       "<tr><td>GBM_5_AutoML_20191210_002405                 </td><td style=\"text-align: right;\">                  300587</td><td style=\"text-align: right;\">548.258</td><td style=\"text-align: right;\">300587</td><td style=\"text-align: right;\">287.855</td><td style=\"text-align: right;\">  0.113531</td></tr>\n",
       "<tr><td>XGBoost_2_AutoML_20191210_002405             </td><td style=\"text-align: right;\">                  306727</td><td style=\"text-align: right;\">553.829</td><td style=\"text-align: right;\">306727</td><td style=\"text-align: right;\">301.598</td><td style=\"text-align: right;\">  0.136265</td></tr>\n",
       "<tr><td>GBM_4_AutoML_20191210_002405                 </td><td style=\"text-align: right;\">                  319151</td><td style=\"text-align: right;\">564.935</td><td style=\"text-align: right;\">319151</td><td style=\"text-align: right;\">307.908</td><td style=\"text-align: right;\">  0.146205</td></tr>\n",
       "<tr><td>XGBoost_grid_1_AutoML_20191210_002405_model_1</td><td style=\"text-align: right;\">                  347486</td><td style=\"text-align: right;\">589.48 </td><td style=\"text-align: right;\">347486</td><td style=\"text-align: right;\">298.181</td><td style=\"text-align: right;\">  0.111643</td></tr>\n",
       "<tr><td>DeepLearning_1_AutoML_20191210_002405        </td><td style=\"text-align: right;\">                  374817</td><td style=\"text-align: right;\">612.223</td><td style=\"text-align: right;\">374817</td><td style=\"text-align: right;\">343.128</td><td style=\"text-align: right;\">nan       </td></tr>\n",
       "</tbody>\n",
       "</table>"
      ]
     },
     "metadata": {},
     "output_type": "display_data"
    },
    {
     "data": {
      "text/plain": []
     },
     "execution_count": 58,
     "metadata": {},
     "output_type": "execute_result"
    }
   ],
   "source": [
    "lb_ti = aml_ti.leaderboard\n",
    "lb_ti"
   ]
  },
  {
   "cell_type": "code",
   "execution_count": 59,
   "metadata": {},
   "outputs": [
    {
     "name": "stdout",
     "output_type": "stream",
     "text": [
      "gbm prediction progress: |████████████████████████████████████████████████| 100%\n"
     ]
    }
   ],
   "source": [
    "pred_automl = aml_ti.leader.predict(test)"
   ]
  },
  {
   "cell_type": "code",
   "execution_count": 60,
   "metadata": {},
   "outputs": [
    {
     "data": {
      "text/html": [
       "<table>\n",
       "<thead>\n",
       "<tr><th style=\"text-align: right;\">  predict</th></tr>\n",
       "</thead>\n",
       "<tbody>\n",
       "<tr><td style=\"text-align: right;\"> 6168.08 </td></tr>\n",
       "<tr><td style=\"text-align: right;\"> 3253.45 </td></tr>\n",
       "<tr><td style=\"text-align: right;\">  817.446</td></tr>\n",
       "<tr><td style=\"text-align: right;\"> 4317.02 </td></tr>\n",
       "<tr><td style=\"text-align: right;\"> 2245.88 </td></tr>\n",
       "<tr><td style=\"text-align: right;\"> 6115.4  </td></tr>\n",
       "<tr><td style=\"text-align: right;\">12600.2  </td></tr>\n",
       "<tr><td style=\"text-align: right;\"> 1902.6  </td></tr>\n",
       "<tr><td style=\"text-align: right;\"> 4603.95 </td></tr>\n",
       "<tr><td style=\"text-align: right;\">  723.506</td></tr>\n",
       "</tbody>\n",
       "</table>"
      ]
     },
     "metadata": {},
     "output_type": "display_data"
    },
    {
     "data": {
      "text/plain": []
     },
     "execution_count": 60,
     "metadata": {},
     "output_type": "execute_result"
    }
   ],
   "source": [
    "pred_automl"
   ]
  },
  {
   "cell_type": "code",
   "execution_count": 61,
   "metadata": {},
   "outputs": [
    {
     "data": {
      "text/html": [
       "<table>\n",
       "<thead>\n",
       "<tr><th style=\"text-align: right;\">  price</th></tr>\n",
       "</thead>\n",
       "<tbody>\n",
       "<tr><td style=\"text-align: right;\">   6670</td></tr>\n",
       "<tr><td style=\"text-align: right;\">   2732</td></tr>\n",
       "<tr><td style=\"text-align: right;\">    727</td></tr>\n",
       "<tr><td style=\"text-align: right;\">   4200</td></tr>\n",
       "<tr><td style=\"text-align: right;\">   2159</td></tr>\n",
       "<tr><td style=\"text-align: right;\">   6146</td></tr>\n",
       "<tr><td style=\"text-align: right;\">  11640</td></tr>\n",
       "<tr><td style=\"text-align: right;\">   1819</td></tr>\n",
       "<tr><td style=\"text-align: right;\">   5127</td></tr>\n",
       "<tr><td style=\"text-align: right;\">    844</td></tr>\n",
       "</tbody>\n",
       "</table>"
      ]
     },
     "metadata": {},
     "output_type": "display_data"
    },
    {
     "data": {
      "text/plain": []
     },
     "execution_count": 61,
     "metadata": {},
     "output_type": "execute_result"
    }
   ],
   "source": [
    "y_test"
   ]
  },
  {
   "cell_type": "code",
   "execution_count": 62,
   "metadata": {},
   "outputs": [],
   "source": [
    "#Probamos con test"
   ]
  },
  {
   "cell_type": "code",
   "execution_count": 63,
   "metadata": {},
   "outputs": [],
   "source": [
    "diamonds_test =  pd.read_csv('./diamonds-datamad1019/test.csv')"
   ]
  },
  {
   "cell_type": "code",
   "execution_count": 64,
   "metadata": {},
   "outputs": [],
   "source": [
    "diamonds_test = dc.dfCleaning(diamonds_test)"
   ]
  },
  {
   "cell_type": "code",
   "execution_count": 65,
   "metadata": {},
   "outputs": [
    {
     "name": "stdout",
     "output_type": "stream",
     "text": [
      "Parse progress: |█████████████████████████████████████████████████████████| 100%\n"
     ]
    }
   ],
   "source": [
    "diamonds_h2o=h2o.H2OFrame(diamonds_test)"
   ]
  },
  {
   "cell_type": "code",
   "execution_count": 66,
   "metadata": {},
   "outputs": [],
   "source": [
    "x_columns = [\"carat\",\"color_num\",\"cut_num\",\"clarity_num\",\"depth\"]"
   ]
  },
  {
   "cell_type": "code",
   "execution_count": 67,
   "metadata": {},
   "outputs": [],
   "source": [
    "X_train=diamonds_h2o[x_columns]"
   ]
  },
  {
   "cell_type": "code",
   "execution_count": 68,
   "metadata": {},
   "outputs": [
    {
     "name": "stdout",
     "output_type": "stream",
     "text": [
      "gbm prediction progress: |████████████████████████████████████████████████| 100%\n"
     ]
    }
   ],
   "source": [
    "pred_automl = aml_ti.leader.predict(X_train)"
   ]
  },
  {
   "cell_type": "code",
   "execution_count": 69,
   "metadata": {},
   "outputs": [
    {
     "data": {
      "text/html": [
       "<table>\n",
       "<thead>\n",
       "<tr><th style=\"text-align: right;\">  predict</th></tr>\n",
       "</thead>\n",
       "<tbody>\n",
       "<tr><td style=\"text-align: right;\"> 1293.74 </td></tr>\n",
       "<tr><td style=\"text-align: right;\"> 6711.9  </td></tr>\n",
       "<tr><td style=\"text-align: right;\"> 1630.83 </td></tr>\n",
       "<tr><td style=\"text-align: right;\"> 4024.92 </td></tr>\n",
       "<tr><td style=\"text-align: right;\"> 1800.82 </td></tr>\n",
       "<tr><td style=\"text-align: right;\">10130.7  </td></tr>\n",
       "<tr><td style=\"text-align: right;\">  812.562</td></tr>\n",
       "<tr><td style=\"text-align: right;\">  999.084</td></tr>\n",
       "<tr><td style=\"text-align: right;\">  699.92 </td></tr>\n",
       "<tr><td style=\"text-align: right;\">14165    </td></tr>\n",
       "</tbody>\n",
       "</table>"
      ]
     },
     "metadata": {},
     "output_type": "display_data"
    },
    {
     "data": {
      "text/plain": []
     },
     "execution_count": 69,
     "metadata": {},
     "output_type": "execute_result"
    }
   ],
   "source": [
    "pred_automl"
   ]
  },
  {
   "cell_type": "code",
   "execution_count": 70,
   "metadata": {},
   "outputs": [],
   "source": [
    "submission = pred_automl.as_data_frame()"
   ]
  },
  {
   "cell_type": "code",
   "execution_count": 71,
   "metadata": {
    "scrolled": true
   },
   "outputs": [
    {
     "data": {
      "text/html": [
       "<div>\n",
       "<style scoped>\n",
       "    .dataframe tbody tr th:only-of-type {\n",
       "        vertical-align: middle;\n",
       "    }\n",
       "\n",
       "    .dataframe tbody tr th {\n",
       "        vertical-align: top;\n",
       "    }\n",
       "\n",
       "    .dataframe thead th {\n",
       "        text-align: right;\n",
       "    }\n",
       "</style>\n",
       "<table border=\"1\" class=\"dataframe\">\n",
       "  <thead>\n",
       "    <tr style=\"text-align: right;\">\n",
       "      <th></th>\n",
       "      <th>predict</th>\n",
       "    </tr>\n",
       "  </thead>\n",
       "  <tbody>\n",
       "    <tr>\n",
       "      <th>0</th>\n",
       "      <td>1293.736308</td>\n",
       "    </tr>\n",
       "    <tr>\n",
       "      <th>1</th>\n",
       "      <td>6711.895912</td>\n",
       "    </tr>\n",
       "    <tr>\n",
       "      <th>2</th>\n",
       "      <td>1630.830455</td>\n",
       "    </tr>\n",
       "    <tr>\n",
       "      <th>3</th>\n",
       "      <td>4024.922385</td>\n",
       "    </tr>\n",
       "    <tr>\n",
       "      <th>4</th>\n",
       "      <td>1800.819345</td>\n",
       "    </tr>\n",
       "    <tr>\n",
       "      <th>...</th>\n",
       "      <td>...</td>\n",
       "    </tr>\n",
       "    <tr>\n",
       "      <th>13480</th>\n",
       "      <td>2209.954432</td>\n",
       "    </tr>\n",
       "    <tr>\n",
       "      <th>13481</th>\n",
       "      <td>2038.879554</td>\n",
       "    </tr>\n",
       "    <tr>\n",
       "      <th>13482</th>\n",
       "      <td>11142.433160</td>\n",
       "    </tr>\n",
       "    <tr>\n",
       "      <th>13483</th>\n",
       "      <td>465.113958</td>\n",
       "    </tr>\n",
       "    <tr>\n",
       "      <th>13484</th>\n",
       "      <td>1219.141370</td>\n",
       "    </tr>\n",
       "  </tbody>\n",
       "</table>\n",
       "<p>13485 rows × 1 columns</p>\n",
       "</div>"
      ],
      "text/plain": [
       "            predict\n",
       "0       1293.736308\n",
       "1       6711.895912\n",
       "2       1630.830455\n",
       "3       4024.922385\n",
       "4       1800.819345\n",
       "...             ...\n",
       "13480   2209.954432\n",
       "13481   2038.879554\n",
       "13482  11142.433160\n",
       "13483    465.113958\n",
       "13484   1219.141370\n",
       "\n",
       "[13485 rows x 1 columns]"
      ]
     },
     "execution_count": 71,
     "metadata": {},
     "output_type": "execute_result"
    }
   ],
   "source": [
    "submission"
   ]
  },
  {
   "cell_type": "code",
   "execution_count": 72,
   "metadata": {},
   "outputs": [
    {
     "data": {
      "text/html": [
       "<div>\n",
       "<style scoped>\n",
       "    .dataframe tbody tr th:only-of-type {\n",
       "        vertical-align: middle;\n",
       "    }\n",
       "\n",
       "    .dataframe tbody tr th {\n",
       "        vertical-align: top;\n",
       "    }\n",
       "\n",
       "    .dataframe thead th {\n",
       "        text-align: right;\n",
       "    }\n",
       "</style>\n",
       "<table border=\"1\" class=\"dataframe\">\n",
       "  <thead>\n",
       "    <tr style=\"text-align: right;\">\n",
       "      <th></th>\n",
       "      <th>price</th>\n",
       "    </tr>\n",
       "  </thead>\n",
       "  <tbody>\n",
       "    <tr>\n",
       "      <th>0</th>\n",
       "      <td>1293.736308</td>\n",
       "    </tr>\n",
       "    <tr>\n",
       "      <th>1</th>\n",
       "      <td>6711.895912</td>\n",
       "    </tr>\n",
       "    <tr>\n",
       "      <th>2</th>\n",
       "      <td>1630.830455</td>\n",
       "    </tr>\n",
       "    <tr>\n",
       "      <th>3</th>\n",
       "      <td>4024.922385</td>\n",
       "    </tr>\n",
       "    <tr>\n",
       "      <th>4</th>\n",
       "      <td>1800.819345</td>\n",
       "    </tr>\n",
       "    <tr>\n",
       "      <th>...</th>\n",
       "      <td>...</td>\n",
       "    </tr>\n",
       "    <tr>\n",
       "      <th>13480</th>\n",
       "      <td>2209.954432</td>\n",
       "    </tr>\n",
       "    <tr>\n",
       "      <th>13481</th>\n",
       "      <td>2038.879554</td>\n",
       "    </tr>\n",
       "    <tr>\n",
       "      <th>13482</th>\n",
       "      <td>11142.433160</td>\n",
       "    </tr>\n",
       "    <tr>\n",
       "      <th>13483</th>\n",
       "      <td>465.113958</td>\n",
       "    </tr>\n",
       "    <tr>\n",
       "      <th>13484</th>\n",
       "      <td>1219.141370</td>\n",
       "    </tr>\n",
       "  </tbody>\n",
       "</table>\n",
       "<p>13485 rows × 1 columns</p>\n",
       "</div>"
      ],
      "text/plain": [
       "              price\n",
       "0       1293.736308\n",
       "1       6711.895912\n",
       "2       1630.830455\n",
       "3       4024.922385\n",
       "4       1800.819345\n",
       "...             ...\n",
       "13480   2209.954432\n",
       "13481   2038.879554\n",
       "13482  11142.433160\n",
       "13483    465.113958\n",
       "13484   1219.141370\n",
       "\n",
       "[13485 rows x 1 columns]"
      ]
     },
     "execution_count": 72,
     "metadata": {},
     "output_type": "execute_result"
    }
   ],
   "source": [
    "submission.rename(columns={\"predict\": \"price\"}, inplace=True)\n",
    "submission"
   ]
  },
  {
   "cell_type": "code",
   "execution_count": 73,
   "metadata": {},
   "outputs": [],
   "source": [
    "submission.price = submission.price.astype(int)\n"
   ]
  },
  {
   "cell_type": "code",
   "execution_count": 74,
   "metadata": {},
   "outputs": [
    {
     "data": {
      "text/html": [
       "<div>\n",
       "<style scoped>\n",
       "    .dataframe tbody tr th:only-of-type {\n",
       "        vertical-align: middle;\n",
       "    }\n",
       "\n",
       "    .dataframe tbody tr th {\n",
       "        vertical-align: top;\n",
       "    }\n",
       "\n",
       "    .dataframe thead th {\n",
       "        text-align: right;\n",
       "    }\n",
       "</style>\n",
       "<table border=\"1\" class=\"dataframe\">\n",
       "  <thead>\n",
       "    <tr style=\"text-align: right;\">\n",
       "      <th></th>\n",
       "      <th>price</th>\n",
       "    </tr>\n",
       "  </thead>\n",
       "  <tbody>\n",
       "    <tr>\n",
       "      <th>0</th>\n",
       "      <td>1293</td>\n",
       "    </tr>\n",
       "    <tr>\n",
       "      <th>1</th>\n",
       "      <td>6711</td>\n",
       "    </tr>\n",
       "    <tr>\n",
       "      <th>2</th>\n",
       "      <td>1630</td>\n",
       "    </tr>\n",
       "    <tr>\n",
       "      <th>3</th>\n",
       "      <td>4024</td>\n",
       "    </tr>\n",
       "    <tr>\n",
       "      <th>4</th>\n",
       "      <td>1800</td>\n",
       "    </tr>\n",
       "    <tr>\n",
       "      <th>...</th>\n",
       "      <td>...</td>\n",
       "    </tr>\n",
       "    <tr>\n",
       "      <th>13480</th>\n",
       "      <td>2209</td>\n",
       "    </tr>\n",
       "    <tr>\n",
       "      <th>13481</th>\n",
       "      <td>2038</td>\n",
       "    </tr>\n",
       "    <tr>\n",
       "      <th>13482</th>\n",
       "      <td>11142</td>\n",
       "    </tr>\n",
       "    <tr>\n",
       "      <th>13483</th>\n",
       "      <td>465</td>\n",
       "    </tr>\n",
       "    <tr>\n",
       "      <th>13484</th>\n",
       "      <td>1219</td>\n",
       "    </tr>\n",
       "  </tbody>\n",
       "</table>\n",
       "<p>13485 rows × 1 columns</p>\n",
       "</div>"
      ],
      "text/plain": [
       "       price\n",
       "0       1293\n",
       "1       6711\n",
       "2       1630\n",
       "3       4024\n",
       "4       1800\n",
       "...      ...\n",
       "13480   2209\n",
       "13481   2038\n",
       "13482  11142\n",
       "13483    465\n",
       "13484   1219\n",
       "\n",
       "[13485 rows x 1 columns]"
      ]
     },
     "execution_count": 74,
     "metadata": {},
     "output_type": "execute_result"
    }
   ],
   "source": [
    "submission"
   ]
  },
  {
   "cell_type": "code",
   "execution_count": 75,
   "metadata": {},
   "outputs": [],
   "source": [
    "submission.to_csv('./diamonds-datamad1019/submission.csv')"
   ]
  },
  {
   "cell_type": "code",
   "execution_count": null,
   "metadata": {},
   "outputs": [],
   "source": []
  }
 ],
 "metadata": {
  "kernelspec": {
   "display_name": "Python 3",
   "language": "python",
   "name": "python3"
  },
  "language_info": {
   "codemirror_mode": {
    "name": "ipython",
    "version": 3
   },
   "file_extension": ".py",
   "mimetype": "text/x-python",
   "name": "python",
   "nbconvert_exporter": "python",
   "pygments_lexer": "ipython3",
   "version": "3.6.9"
  }
 },
 "nbformat": 4,
 "nbformat_minor": 2
}
