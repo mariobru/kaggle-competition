{
 "cells": [
  {
   "cell_type": "code",
   "execution_count": 7,
   "metadata": {},
   "outputs": [],
   "source": [
    "import h2o\n",
    "import pandas as pd\n",
    "import src.dataCleaning as dc\n",
    "from h2o.automl import H2OAutoML"
   ]
  },
  {
   "cell_type": "code",
   "execution_count": 8,
   "metadata": {},
   "outputs": [],
   "source": [
    "diamonds =  pd.read_csv('./diamonds-datamad1019/data.csv/data.csv')"
   ]
  },
  {
   "cell_type": "code",
   "execution_count": 9,
   "metadata": {},
   "outputs": [],
   "source": [
    "diamonds = dc.dfCleaning(diamonds)"
   ]
  },
  {
   "cell_type": "code",
   "execution_count": 10,
   "metadata": {},
   "outputs": [
    {
     "data": {
      "text/html": [
       "<div>\n",
       "<style scoped>\n",
       "    .dataframe tbody tr th:only-of-type {\n",
       "        vertical-align: middle;\n",
       "    }\n",
       "\n",
       "    .dataframe tbody tr th {\n",
       "        vertical-align: top;\n",
       "    }\n",
       "\n",
       "    .dataframe thead th {\n",
       "        text-align: right;\n",
       "    }\n",
       "</style>\n",
       "<table border=\"1\" class=\"dataframe\">\n",
       "  <thead>\n",
       "    <tr style=\"text-align: right;\">\n",
       "      <th></th>\n",
       "      <th>carat</th>\n",
       "      <th>depth</th>\n",
       "      <th>table</th>\n",
       "      <th>price</th>\n",
       "      <th>color_num</th>\n",
       "      <th>cut_num</th>\n",
       "      <th>clarity_num</th>\n",
       "      <th>volume</th>\n",
       "    </tr>\n",
       "  </thead>\n",
       "  <tbody>\n",
       "    <tr>\n",
       "      <th>0</th>\n",
       "      <td>2.26</td>\n",
       "      <td>61.9</td>\n",
       "      <td>57.0</td>\n",
       "      <td>12831</td>\n",
       "      <td>4.0</td>\n",
       "      <td>5.0</td>\n",
       "      <td>2.0</td>\n",
       "      <td>366.903680</td>\n",
       "    </tr>\n",
       "    <tr>\n",
       "      <th>1</th>\n",
       "      <td>2.43</td>\n",
       "      <td>63.2</td>\n",
       "      <td>57.0</td>\n",
       "      <td>16170</td>\n",
       "      <td>3.0</td>\n",
       "      <td>3.0</td>\n",
       "      <td>2.0</td>\n",
       "      <td>392.176400</td>\n",
       "    </tr>\n",
       "    <tr>\n",
       "      <th>2</th>\n",
       "      <td>0.80</td>\n",
       "      <td>61.0</td>\n",
       "      <td>57.0</td>\n",
       "      <td>2797</td>\n",
       "      <td>5.0</td>\n",
       "      <td>4.0</td>\n",
       "      <td>2.0</td>\n",
       "      <td>133.001901</td>\n",
       "    </tr>\n",
       "    <tr>\n",
       "      <th>3</th>\n",
       "      <td>0.40</td>\n",
       "      <td>63.3</td>\n",
       "      <td>60.0</td>\n",
       "      <td>630</td>\n",
       "      <td>5.0</td>\n",
       "      <td>5.0</td>\n",
       "      <td>1.0</td>\n",
       "      <td>64.059840</td>\n",
       "    </tr>\n",
       "    <tr>\n",
       "      <th>4</th>\n",
       "      <td>0.31</td>\n",
       "      <td>61.6</td>\n",
       "      <td>55.0</td>\n",
       "      <td>698</td>\n",
       "      <td>4.0</td>\n",
       "      <td>5.0</td>\n",
       "      <td>4.0</td>\n",
       "      <td>51.797610</td>\n",
       "    </tr>\n",
       "  </tbody>\n",
       "</table>\n",
       "</div>"
      ],
      "text/plain": [
       "   carat  depth  table  price  color_num  cut_num  clarity_num      volume\n",
       "0   2.26   61.9   57.0  12831        4.0      5.0          2.0  366.903680\n",
       "1   2.43   63.2   57.0  16170        3.0      3.0          2.0  392.176400\n",
       "2   0.80   61.0   57.0   2797        5.0      4.0          2.0  133.001901\n",
       "3   0.40   63.3   60.0    630        5.0      5.0          1.0   64.059840\n",
       "4   0.31   61.6   55.0    698        4.0      5.0          4.0   51.797610"
      ]
     },
     "execution_count": 10,
     "metadata": {},
     "output_type": "execute_result"
    }
   ],
   "source": [
    "diamonds.head()"
   ]
  },
  {
   "cell_type": "code",
   "execution_count": 11,
   "metadata": {},
   "outputs": [
    {
     "name": "stdout",
     "output_type": "stream",
     "text": [
      "Checking whether there is an H2O instance running at http://localhost:54321 ..... not found.\n",
      "Attempting to start a local H2O server...\n",
      "  Java Version: openjdk version \"11.0.4\" 2019-07-16; OpenJDK Runtime Environment (build 11.0.4+11-post-Ubuntu-1ubuntu218.04.3); OpenJDK 64-Bit Server VM (build 11.0.4+11-post-Ubuntu-1ubuntu218.04.3, mixed mode, sharing)\n",
      "  Starting server from /home/mariobru/.local/lib/python3.6/site-packages/h2o/backend/bin/h2o.jar\n",
      "  Ice root: /tmp/tmpi_r_odt6\n",
      "  JVM stdout: /tmp/tmpi_r_odt6/h2o_mariobru_started_from_python.out\n",
      "  JVM stderr: /tmp/tmpi_r_odt6/h2o_mariobru_started_from_python.err\n",
      "  Server is running at http://127.0.0.1:54321\n",
      "Connecting to H2O server at http://127.0.0.1:54321 ... successful.\n"
     ]
    },
    {
     "data": {
      "text/html": [
       "<div style=\"overflow:auto\"><table style=\"width:50%\"><tr><td>H2O cluster uptime:</td>\n",
       "<td>01 secs</td></tr>\n",
       "<tr><td>H2O cluster timezone:</td>\n",
       "<td>Europe/Madrid</td></tr>\n",
       "<tr><td>H2O data parsing timezone:</td>\n",
       "<td>UTC</td></tr>\n",
       "<tr><td>H2O cluster version:</td>\n",
       "<td>3.26.0.11</td></tr>\n",
       "<tr><td>H2O cluster version age:</td>\n",
       "<td>4 days </td></tr>\n",
       "<tr><td>H2O cluster name:</td>\n",
       "<td>H2O_from_python_mariobru_vab36l</td></tr>\n",
       "<tr><td>H2O cluster total nodes:</td>\n",
       "<td>1</td></tr>\n",
       "<tr><td>H2O cluster free memory:</td>\n",
       "<td>26 Gb</td></tr>\n",
       "<tr><td>H2O cluster total cores:</td>\n",
       "<td>12</td></tr>\n",
       "<tr><td>H2O cluster allowed cores:</td>\n",
       "<td>12</td></tr>\n",
       "<tr><td>H2O cluster status:</td>\n",
       "<td>accepting new members, healthy</td></tr>\n",
       "<tr><td>H2O connection url:</td>\n",
       "<td>http://127.0.0.1:54321</td></tr>\n",
       "<tr><td>H2O connection proxy:</td>\n",
       "<td>{'http': None, 'https': None}</td></tr>\n",
       "<tr><td>H2O internal security:</td>\n",
       "<td>False</td></tr>\n",
       "<tr><td>H2O API Extensions:</td>\n",
       "<td>Amazon S3, XGBoost, Algos, AutoML, Core V3, TargetEncoder, Core V4</td></tr>\n",
       "<tr><td>Python version:</td>\n",
       "<td>3.6.9 final</td></tr></table></div>"
      ],
      "text/plain": [
       "--------------------------  ------------------------------------------------------------------\n",
       "H2O cluster uptime:         01 secs\n",
       "H2O cluster timezone:       Europe/Madrid\n",
       "H2O data parsing timezone:  UTC\n",
       "H2O cluster version:        3.26.0.11\n",
       "H2O cluster version age:    4 days\n",
       "H2O cluster name:           H2O_from_python_mariobru_vab36l\n",
       "H2O cluster total nodes:    1\n",
       "H2O cluster free memory:    26 Gb\n",
       "H2O cluster total cores:    12\n",
       "H2O cluster allowed cores:  12\n",
       "H2O cluster status:         accepting new members, healthy\n",
       "H2O connection url:         http://127.0.0.1:54321\n",
       "H2O connection proxy:       {'http': None, 'https': None}\n",
       "H2O internal security:      False\n",
       "H2O API Extensions:         Amazon S3, XGBoost, Algos, AutoML, Core V3, TargetEncoder, Core V4\n",
       "Python version:             3.6.9 final\n",
       "--------------------------  ------------------------------------------------------------------"
      ]
     },
     "metadata": {},
     "output_type": "display_data"
    }
   ],
   "source": [
    "h2o.init(nthreads = -1, max_mem_size = 26)"
   ]
  },
  {
   "cell_type": "code",
   "execution_count": 12,
   "metadata": {},
   "outputs": [
    {
     "name": "stdout",
     "output_type": "stream",
     "text": [
      "Parse progress: |█████████████████████████████████████████████████████████| 100%\n"
     ]
    }
   ],
   "source": [
    "diamonds_h2o=h2o.H2OFrame(diamonds)"
   ]
  },
  {
   "cell_type": "code",
   "execution_count": 13,
   "metadata": {},
   "outputs": [
    {
     "data": {
      "text/html": [
       "<table>\n",
       "<thead>\n",
       "<tr><th style=\"text-align: right;\">  carat</th><th style=\"text-align: right;\">  depth</th><th style=\"text-align: right;\">  table</th><th style=\"text-align: right;\">  price</th><th style=\"text-align: right;\">  color_num</th><th style=\"text-align: right;\">  cut_num</th><th style=\"text-align: right;\">  clarity_num</th><th style=\"text-align: right;\">  volume</th></tr>\n",
       "</thead>\n",
       "<tbody>\n",
       "<tr><td style=\"text-align: right;\">   2.26</td><td style=\"text-align: right;\">   61.9</td><td style=\"text-align: right;\">     57</td><td style=\"text-align: right;\">  12831</td><td style=\"text-align: right;\">          4</td><td style=\"text-align: right;\">        5</td><td style=\"text-align: right;\">            2</td><td style=\"text-align: right;\">366.904 </td></tr>\n",
       "<tr><td style=\"text-align: right;\">   2.43</td><td style=\"text-align: right;\">   63.2</td><td style=\"text-align: right;\">     57</td><td style=\"text-align: right;\">  16170</td><td style=\"text-align: right;\">          3</td><td style=\"text-align: right;\">        3</td><td style=\"text-align: right;\">            2</td><td style=\"text-align: right;\">392.176 </td></tr>\n",
       "<tr><td style=\"text-align: right;\">   0.8 </td><td style=\"text-align: right;\">   61  </td><td style=\"text-align: right;\">     57</td><td style=\"text-align: right;\">   2797</td><td style=\"text-align: right;\">          5</td><td style=\"text-align: right;\">        4</td><td style=\"text-align: right;\">            2</td><td style=\"text-align: right;\">133.002 </td></tr>\n",
       "<tr><td style=\"text-align: right;\">   0.4 </td><td style=\"text-align: right;\">   63.3</td><td style=\"text-align: right;\">     60</td><td style=\"text-align: right;\">    630</td><td style=\"text-align: right;\">          5</td><td style=\"text-align: right;\">        5</td><td style=\"text-align: right;\">            1</td><td style=\"text-align: right;\"> 64.0598</td></tr>\n",
       "<tr><td style=\"text-align: right;\">   0.31</td><td style=\"text-align: right;\">   61.6</td><td style=\"text-align: right;\">     55</td><td style=\"text-align: right;\">    698</td><td style=\"text-align: right;\">          4</td><td style=\"text-align: right;\">        5</td><td style=\"text-align: right;\">            4</td><td style=\"text-align: right;\"> 51.7976</td></tr>\n",
       "<tr><td style=\"text-align: right;\">   0.53</td><td style=\"text-align: right;\">   60.5</td><td style=\"text-align: right;\">     60</td><td style=\"text-align: right;\">   1132</td><td style=\"text-align: right;\">          5</td><td style=\"text-align: right;\">        3</td><td style=\"text-align: right;\">            2</td><td style=\"text-align: right;\"> 85.5027</td></tr>\n",
       "<tr><td style=\"text-align: right;\">   0.7 </td><td style=\"text-align: right;\">   60.8</td><td style=\"text-align: right;\">     61</td><td style=\"text-align: right;\">   1987</td><td style=\"text-align: right;\">          7</td><td style=\"text-align: right;\">        4</td><td style=\"text-align: right;\">            2</td><td style=\"text-align: right;\">110.716 </td></tr>\n",
       "<tr><td style=\"text-align: right;\">   1.13</td><td style=\"text-align: right;\">   64  </td><td style=\"text-align: right;\">     58</td><td style=\"text-align: right;\">   3952</td><td style=\"text-align: right;\">          5</td><td style=\"text-align: right;\">        2</td><td style=\"text-align: right;\">            2</td><td style=\"text-align: right;\">179.758 </td></tr>\n",
       "<tr><td style=\"text-align: right;\">   0.35</td><td style=\"text-align: right;\">   60.9</td><td style=\"text-align: right;\">     55</td><td style=\"text-align: right;\">    614</td><td style=\"text-align: right;\">          6</td><td style=\"text-align: right;\">        5</td><td style=\"text-align: right;\">            3</td><td style=\"text-align: right;\"> 57.3448</td></tr>\n",
       "<tr><td style=\"text-align: right;\">   1.01</td><td style=\"text-align: right;\">   61.4</td><td style=\"text-align: right;\">     66</td><td style=\"text-align: right;\">   5062</td><td style=\"text-align: right;\">          3</td><td style=\"text-align: right;\">        1</td><td style=\"text-align: right;\">            5</td><td style=\"text-align: right;\">153.103 </td></tr>\n",
       "</tbody>\n",
       "</table>"
      ]
     },
     "metadata": {},
     "output_type": "display_data"
    },
    {
     "data": {
      "text/plain": []
     },
     "execution_count": 13,
     "metadata": {},
     "output_type": "execute_result"
    }
   ],
   "source": [
    "diamonds_h2o.head()"
   ]
  },
  {
   "cell_type": "code",
   "execution_count": 14,
   "metadata": {},
   "outputs": [],
   "source": [
    "y_columns = \"price\"\n",
    "x_columns = [\"carat\",\"color_num\",\"cut_num\",\"clarity_num\",\"depth\"]"
   ]
  },
  {
   "cell_type": "code",
   "execution_count": null,
   "metadata": {},
   "outputs": [],
   "source": []
  },
  {
   "cell_type": "code",
   "execution_count": 15,
   "metadata": {},
   "outputs": [],
   "source": [
    "train, test=diamonds_h2o.split_frame(ratios = [.999])\n",
    "X_train=train[x_columns]\n",
    "y_train=train[y_columns]\n",
    "X_test=test[x_columns]\n",
    "y_test=test[y_columns]"
   ]
  },
  {
   "cell_type": "code",
   "execution_count": 16,
   "metadata": {},
   "outputs": [
    {
     "name": "stdout",
     "output_type": "stream",
     "text": [
      "AutoML progress: |████████████████████████████████████████████████████████| 100%\n"
     ]
    }
   ],
   "source": [
    "aml_ti = H2OAutoML(max_runtime_secs= 360,max_models= 15, seed= 1, nfolds=0)\n",
    "aml_ti.train(x = x_columns, y = y_columns, training_frame = train, validation_frame=test)"
   ]
  },
  {
   "cell_type": "code",
   "execution_count": 17,
   "metadata": {},
   "outputs": [
    {
     "data": {
      "text/html": [
       "<table>\n",
       "<thead>\n",
       "<tr><th>model_id                                     </th><th style=\"text-align: right;\">  mean_residual_deviance</th><th style=\"text-align: right;\">   rmse</th><th style=\"text-align: right;\">   mse</th><th style=\"text-align: right;\">    mae</th><th style=\"text-align: right;\">     rmsle</th></tr>\n",
       "</thead>\n",
       "<tbody>\n",
       "<tr><td>GBM_2_AutoML_20191210_092347                 </td><td style=\"text-align: right;\">                  289686</td><td style=\"text-align: right;\">538.225</td><td style=\"text-align: right;\">289686</td><td style=\"text-align: right;\">285.346</td><td style=\"text-align: right;\">  0.108818</td></tr>\n",
       "<tr><td>GBM_1_AutoML_20191210_092347                 </td><td style=\"text-align: right;\">                  293169</td><td style=\"text-align: right;\">541.451</td><td style=\"text-align: right;\">293169</td><td style=\"text-align: right;\">290.592</td><td style=\"text-align: right;\">nan       </td></tr>\n",
       "<tr><td>XGBoost_3_AutoML_20191210_092347             </td><td style=\"text-align: right;\">                  297704</td><td style=\"text-align: right;\">545.623</td><td style=\"text-align: right;\">297704</td><td style=\"text-align: right;\">288.898</td><td style=\"text-align: right;\">nan       </td></tr>\n",
       "<tr><td>GBM_3_AutoML_20191210_092347                 </td><td style=\"text-align: right;\">                  299968</td><td style=\"text-align: right;\">547.694</td><td style=\"text-align: right;\">299968</td><td style=\"text-align: right;\">292.485</td><td style=\"text-align: right;\">nan       </td></tr>\n",
       "<tr><td>XGBoost_1_AutoML_20191210_092347             </td><td style=\"text-align: right;\">                  305533</td><td style=\"text-align: right;\">552.75 </td><td style=\"text-align: right;\">305533</td><td style=\"text-align: right;\">285.716</td><td style=\"text-align: right;\">  0.109701</td></tr>\n",
       "<tr><td>GBM_4_AutoML_20191210_092347                 </td><td style=\"text-align: right;\">                  311144</td><td style=\"text-align: right;\">557.803</td><td style=\"text-align: right;\">311144</td><td style=\"text-align: right;\">307.018</td><td style=\"text-align: right;\">nan       </td></tr>\n",
       "<tr><td>XGBoost_2_AutoML_20191210_092347             </td><td style=\"text-align: right;\">                  314136</td><td style=\"text-align: right;\">560.478</td><td style=\"text-align: right;\">314136</td><td style=\"text-align: right;\">305.406</td><td style=\"text-align: right;\">nan       </td></tr>\n",
       "<tr><td>GBM_5_AutoML_20191210_092347                 </td><td style=\"text-align: right;\">                  322578</td><td style=\"text-align: right;\">567.959</td><td style=\"text-align: right;\">322578</td><td style=\"text-align: right;\">294.382</td><td style=\"text-align: right;\">  0.116042</td></tr>\n",
       "<tr><td>XGBoost_grid_1_AutoML_20191210_092347_model_1</td><td style=\"text-align: right;\">                  361185</td><td style=\"text-align: right;\">600.987</td><td style=\"text-align: right;\">361185</td><td style=\"text-align: right;\">298.426</td><td style=\"text-align: right;\">  0.112953</td></tr>\n",
       "<tr><td>DeepLearning_1_AutoML_20191210_092347        </td><td style=\"text-align: right;\">                  403429</td><td style=\"text-align: right;\">635.161</td><td style=\"text-align: right;\">403429</td><td style=\"text-align: right;\">351.485</td><td style=\"text-align: right;\">  0.169915</td></tr>\n",
       "</tbody>\n",
       "</table>"
      ]
     },
     "metadata": {},
     "output_type": "display_data"
    },
    {
     "data": {
      "text/plain": []
     },
     "execution_count": 17,
     "metadata": {},
     "output_type": "execute_result"
    }
   ],
   "source": [
    "lb_ti = aml_ti.leaderboard\n",
    "lb_ti"
   ]
  },
  {
   "cell_type": "code",
   "execution_count": 18,
   "metadata": {},
   "outputs": [
    {
     "name": "stdout",
     "output_type": "stream",
     "text": [
      "gbm prediction progress: |████████████████████████████████████████████████| 100%\n"
     ]
    }
   ],
   "source": [
    "pred_automl = aml_ti.leader.predict(test)"
   ]
  },
  {
   "cell_type": "code",
   "execution_count": 19,
   "metadata": {},
   "outputs": [
    {
     "data": {
      "text/html": [
       "<table>\n",
       "<thead>\n",
       "<tr><th style=\"text-align: right;\">  predict</th></tr>\n",
       "</thead>\n",
       "<tbody>\n",
       "<tr><td style=\"text-align: right;\">  840.682</td></tr>\n",
       "<tr><td style=\"text-align: right;\">  925.66 </td></tr>\n",
       "<tr><td style=\"text-align: right;\"> 3650.49 </td></tr>\n",
       "<tr><td style=\"text-align: right;\"> 1063.98 </td></tr>\n",
       "<tr><td style=\"text-align: right;\">  472.023</td></tr>\n",
       "<tr><td style=\"text-align: right;\"> 1991.76 </td></tr>\n",
       "<tr><td style=\"text-align: right;\"> 3432.91 </td></tr>\n",
       "<tr><td style=\"text-align: right;\"> 9318.95 </td></tr>\n",
       "<tr><td style=\"text-align: right;\"> 5024.09 </td></tr>\n",
       "<tr><td style=\"text-align: right;\"> 2225.81 </td></tr>\n",
       "</tbody>\n",
       "</table>"
      ]
     },
     "metadata": {},
     "output_type": "display_data"
    },
    {
     "data": {
      "text/plain": []
     },
     "execution_count": 19,
     "metadata": {},
     "output_type": "execute_result"
    }
   ],
   "source": [
    "pred_automl"
   ]
  },
  {
   "cell_type": "code",
   "execution_count": 20,
   "metadata": {},
   "outputs": [
    {
     "data": {
      "text/html": [
       "<table>\n",
       "<thead>\n",
       "<tr><th style=\"text-align: right;\">  price</th></tr>\n",
       "</thead>\n",
       "<tbody>\n",
       "<tr><td style=\"text-align: right;\">    700</td></tr>\n",
       "<tr><td style=\"text-align: right;\">   1040</td></tr>\n",
       "<tr><td style=\"text-align: right;\">   4183</td></tr>\n",
       "<tr><td style=\"text-align: right;\">   1003</td></tr>\n",
       "<tr><td style=\"text-align: right;\">    427</td></tr>\n",
       "<tr><td style=\"text-align: right;\">   2016</td></tr>\n",
       "<tr><td style=\"text-align: right;\">   3748</td></tr>\n",
       "<tr><td style=\"text-align: right;\">   9576</td></tr>\n",
       "<tr><td style=\"text-align: right;\">   5345</td></tr>\n",
       "<tr><td style=\"text-align: right;\">   2390</td></tr>\n",
       "</tbody>\n",
       "</table>"
      ]
     },
     "metadata": {},
     "output_type": "display_data"
    },
    {
     "data": {
      "text/plain": []
     },
     "execution_count": 20,
     "metadata": {},
     "output_type": "execute_result"
    }
   ],
   "source": [
    "y_test"
   ]
  },
  {
   "cell_type": "code",
   "execution_count": 21,
   "metadata": {},
   "outputs": [],
   "source": [
    "#Probamos con test"
   ]
  },
  {
   "cell_type": "code",
   "execution_count": 22,
   "metadata": {},
   "outputs": [],
   "source": [
    "diamonds_test =  pd.read_csv('./diamonds-datamad1019/test.csv')"
   ]
  },
  {
   "cell_type": "code",
   "execution_count": 23,
   "metadata": {},
   "outputs": [],
   "source": [
    "diamonds_test = dc.dfCleaning(diamonds_test)"
   ]
  },
  {
   "cell_type": "code",
   "execution_count": 24,
   "metadata": {},
   "outputs": [
    {
     "name": "stdout",
     "output_type": "stream",
     "text": [
      "Parse progress: |█████████████████████████████████████████████████████████| 100%\n"
     ]
    }
   ],
   "source": [
    "diamonds_h2o=h2o.H2OFrame(diamonds_test)"
   ]
  },
  {
   "cell_type": "code",
   "execution_count": 25,
   "metadata": {},
   "outputs": [],
   "source": [
    "x_columns = [\"carat\",\"color_num\",\"cut_num\",\"clarity_num\",\"depth\"]"
   ]
  },
  {
   "cell_type": "code",
   "execution_count": 26,
   "metadata": {},
   "outputs": [],
   "source": [
    "X_train=diamonds_h2o[x_columns]"
   ]
  },
  {
   "cell_type": "code",
   "execution_count": 27,
   "metadata": {},
   "outputs": [
    {
     "name": "stdout",
     "output_type": "stream",
     "text": [
      "gbm prediction progress: |████████████████████████████████████████████████| 100%\n"
     ]
    }
   ],
   "source": [
    "pred_automl = aml_ti.leader.predict(X_train)"
   ]
  },
  {
   "cell_type": "code",
   "execution_count": 28,
   "metadata": {},
   "outputs": [
    {
     "data": {
      "text/html": [
       "<table>\n",
       "<thead>\n",
       "<tr><th style=\"text-align: right;\">  predict</th></tr>\n",
       "</thead>\n",
       "<tbody>\n",
       "<tr><td style=\"text-align: right;\"> 1238.98 </td></tr>\n",
       "<tr><td style=\"text-align: right;\"> 6634.99 </td></tr>\n",
       "<tr><td style=\"text-align: right;\"> 1657.63 </td></tr>\n",
       "<tr><td style=\"text-align: right;\"> 3826.08 </td></tr>\n",
       "<tr><td style=\"text-align: right;\"> 1780.48 </td></tr>\n",
       "<tr><td style=\"text-align: right;\">10059.5  </td></tr>\n",
       "<tr><td style=\"text-align: right;\">  794.851</td></tr>\n",
       "<tr><td style=\"text-align: right;\">  866.099</td></tr>\n",
       "<tr><td style=\"text-align: right;\">  671.164</td></tr>\n",
       "<tr><td style=\"text-align: right;\">13861.5  </td></tr>\n",
       "</tbody>\n",
       "</table>"
      ]
     },
     "metadata": {},
     "output_type": "display_data"
    },
    {
     "data": {
      "text/plain": []
     },
     "execution_count": 28,
     "metadata": {},
     "output_type": "execute_result"
    }
   ],
   "source": [
    "pred_automl"
   ]
  },
  {
   "cell_type": "code",
   "execution_count": 29,
   "metadata": {},
   "outputs": [],
   "source": [
    "submission = pred_automl.as_data_frame()"
   ]
  },
  {
   "cell_type": "code",
   "execution_count": 30,
   "metadata": {
    "scrolled": true
   },
   "outputs": [
    {
     "data": {
      "text/html": [
       "<div>\n",
       "<style scoped>\n",
       "    .dataframe tbody tr th:only-of-type {\n",
       "        vertical-align: middle;\n",
       "    }\n",
       "\n",
       "    .dataframe tbody tr th {\n",
       "        vertical-align: top;\n",
       "    }\n",
       "\n",
       "    .dataframe thead th {\n",
       "        text-align: right;\n",
       "    }\n",
       "</style>\n",
       "<table border=\"1\" class=\"dataframe\">\n",
       "  <thead>\n",
       "    <tr style=\"text-align: right;\">\n",
       "      <th></th>\n",
       "      <th>predict</th>\n",
       "    </tr>\n",
       "  </thead>\n",
       "  <tbody>\n",
       "    <tr>\n",
       "      <th>0</th>\n",
       "      <td>1238.980816</td>\n",
       "    </tr>\n",
       "    <tr>\n",
       "      <th>1</th>\n",
       "      <td>6634.991527</td>\n",
       "    </tr>\n",
       "    <tr>\n",
       "      <th>2</th>\n",
       "      <td>1657.629506</td>\n",
       "    </tr>\n",
       "    <tr>\n",
       "      <th>3</th>\n",
       "      <td>3826.082592</td>\n",
       "    </tr>\n",
       "    <tr>\n",
       "      <th>4</th>\n",
       "      <td>1780.480069</td>\n",
       "    </tr>\n",
       "    <tr>\n",
       "      <th>...</th>\n",
       "      <td>...</td>\n",
       "    </tr>\n",
       "    <tr>\n",
       "      <th>13480</th>\n",
       "      <td>2183.086762</td>\n",
       "    </tr>\n",
       "    <tr>\n",
       "      <th>13481</th>\n",
       "      <td>2031.353158</td>\n",
       "    </tr>\n",
       "    <tr>\n",
       "      <th>13482</th>\n",
       "      <td>11229.312266</td>\n",
       "    </tr>\n",
       "    <tr>\n",
       "      <th>13483</th>\n",
       "      <td>518.454449</td>\n",
       "    </tr>\n",
       "    <tr>\n",
       "      <th>13484</th>\n",
       "      <td>1205.722371</td>\n",
       "    </tr>\n",
       "  </tbody>\n",
       "</table>\n",
       "<p>13485 rows × 1 columns</p>\n",
       "</div>"
      ],
      "text/plain": [
       "            predict\n",
       "0       1238.980816\n",
       "1       6634.991527\n",
       "2       1657.629506\n",
       "3       3826.082592\n",
       "4       1780.480069\n",
       "...             ...\n",
       "13480   2183.086762\n",
       "13481   2031.353158\n",
       "13482  11229.312266\n",
       "13483    518.454449\n",
       "13484   1205.722371\n",
       "\n",
       "[13485 rows x 1 columns]"
      ]
     },
     "execution_count": 30,
     "metadata": {},
     "output_type": "execute_result"
    }
   ],
   "source": [
    "submission"
   ]
  },
  {
   "cell_type": "code",
   "execution_count": 31,
   "metadata": {},
   "outputs": [
    {
     "data": {
      "text/html": [
       "<div>\n",
       "<style scoped>\n",
       "    .dataframe tbody tr th:only-of-type {\n",
       "        vertical-align: middle;\n",
       "    }\n",
       "\n",
       "    .dataframe tbody tr th {\n",
       "        vertical-align: top;\n",
       "    }\n",
       "\n",
       "    .dataframe thead th {\n",
       "        text-align: right;\n",
       "    }\n",
       "</style>\n",
       "<table border=\"1\" class=\"dataframe\">\n",
       "  <thead>\n",
       "    <tr style=\"text-align: right;\">\n",
       "      <th></th>\n",
       "      <th>price</th>\n",
       "    </tr>\n",
       "  </thead>\n",
       "  <tbody>\n",
       "    <tr>\n",
       "      <th>0</th>\n",
       "      <td>1238.980816</td>\n",
       "    </tr>\n",
       "    <tr>\n",
       "      <th>1</th>\n",
       "      <td>6634.991527</td>\n",
       "    </tr>\n",
       "    <tr>\n",
       "      <th>2</th>\n",
       "      <td>1657.629506</td>\n",
       "    </tr>\n",
       "    <tr>\n",
       "      <th>3</th>\n",
       "      <td>3826.082592</td>\n",
       "    </tr>\n",
       "    <tr>\n",
       "      <th>4</th>\n",
       "      <td>1780.480069</td>\n",
       "    </tr>\n",
       "    <tr>\n",
       "      <th>...</th>\n",
       "      <td>...</td>\n",
       "    </tr>\n",
       "    <tr>\n",
       "      <th>13480</th>\n",
       "      <td>2183.086762</td>\n",
       "    </tr>\n",
       "    <tr>\n",
       "      <th>13481</th>\n",
       "      <td>2031.353158</td>\n",
       "    </tr>\n",
       "    <tr>\n",
       "      <th>13482</th>\n",
       "      <td>11229.312266</td>\n",
       "    </tr>\n",
       "    <tr>\n",
       "      <th>13483</th>\n",
       "      <td>518.454449</td>\n",
       "    </tr>\n",
       "    <tr>\n",
       "      <th>13484</th>\n",
       "      <td>1205.722371</td>\n",
       "    </tr>\n",
       "  </tbody>\n",
       "</table>\n",
       "<p>13485 rows × 1 columns</p>\n",
       "</div>"
      ],
      "text/plain": [
       "              price\n",
       "0       1238.980816\n",
       "1       6634.991527\n",
       "2       1657.629506\n",
       "3       3826.082592\n",
       "4       1780.480069\n",
       "...             ...\n",
       "13480   2183.086762\n",
       "13481   2031.353158\n",
       "13482  11229.312266\n",
       "13483    518.454449\n",
       "13484   1205.722371\n",
       "\n",
       "[13485 rows x 1 columns]"
      ]
     },
     "execution_count": 31,
     "metadata": {},
     "output_type": "execute_result"
    }
   ],
   "source": [
    "submission.rename(columns={\"predict\": \"price\"}, inplace=True)\n",
    "submission"
   ]
  },
  {
   "cell_type": "code",
   "execution_count": 32,
   "metadata": {},
   "outputs": [],
   "source": [
    "submission.price = submission.price.astype(int)\n"
   ]
  },
  {
   "cell_type": "code",
   "execution_count": 33,
   "metadata": {},
   "outputs": [
    {
     "data": {
      "text/html": [
       "<div>\n",
       "<style scoped>\n",
       "    .dataframe tbody tr th:only-of-type {\n",
       "        vertical-align: middle;\n",
       "    }\n",
       "\n",
       "    .dataframe tbody tr th {\n",
       "        vertical-align: top;\n",
       "    }\n",
       "\n",
       "    .dataframe thead th {\n",
       "        text-align: right;\n",
       "    }\n",
       "</style>\n",
       "<table border=\"1\" class=\"dataframe\">\n",
       "  <thead>\n",
       "    <tr style=\"text-align: right;\">\n",
       "      <th></th>\n",
       "      <th>price</th>\n",
       "    </tr>\n",
       "  </thead>\n",
       "  <tbody>\n",
       "    <tr>\n",
       "      <th>0</th>\n",
       "      <td>1238</td>\n",
       "    </tr>\n",
       "    <tr>\n",
       "      <th>1</th>\n",
       "      <td>6634</td>\n",
       "    </tr>\n",
       "    <tr>\n",
       "      <th>2</th>\n",
       "      <td>1657</td>\n",
       "    </tr>\n",
       "    <tr>\n",
       "      <th>3</th>\n",
       "      <td>3826</td>\n",
       "    </tr>\n",
       "    <tr>\n",
       "      <th>4</th>\n",
       "      <td>1780</td>\n",
       "    </tr>\n",
       "    <tr>\n",
       "      <th>...</th>\n",
       "      <td>...</td>\n",
       "    </tr>\n",
       "    <tr>\n",
       "      <th>13480</th>\n",
       "      <td>2183</td>\n",
       "    </tr>\n",
       "    <tr>\n",
       "      <th>13481</th>\n",
       "      <td>2031</td>\n",
       "    </tr>\n",
       "    <tr>\n",
       "      <th>13482</th>\n",
       "      <td>11229</td>\n",
       "    </tr>\n",
       "    <tr>\n",
       "      <th>13483</th>\n",
       "      <td>518</td>\n",
       "    </tr>\n",
       "    <tr>\n",
       "      <th>13484</th>\n",
       "      <td>1205</td>\n",
       "    </tr>\n",
       "  </tbody>\n",
       "</table>\n",
       "<p>13485 rows × 1 columns</p>\n",
       "</div>"
      ],
      "text/plain": [
       "       price\n",
       "0       1238\n",
       "1       6634\n",
       "2       1657\n",
       "3       3826\n",
       "4       1780\n",
       "...      ...\n",
       "13480   2183\n",
       "13481   2031\n",
       "13482  11229\n",
       "13483    518\n",
       "13484   1205\n",
       "\n",
       "[13485 rows x 1 columns]"
      ]
     },
     "execution_count": 33,
     "metadata": {},
     "output_type": "execute_result"
    }
   ],
   "source": [
    "submission"
   ]
  },
  {
   "cell_type": "code",
   "execution_count": 34,
   "metadata": {},
   "outputs": [],
   "source": [
    "submission.to_csv('./diamonds-datamad1019/submission.csv')"
   ]
  },
  {
   "cell_type": "code",
   "execution_count": null,
   "metadata": {},
   "outputs": [],
   "source": []
  }
 ],
 "metadata": {
  "kernelspec": {
   "display_name": "Python 3",
   "language": "python",
   "name": "python3"
  },
  "language_info": {
   "codemirror_mode": {
    "name": "ipython",
    "version": 3
   },
   "file_extension": ".py",
   "mimetype": "text/x-python",
   "name": "python",
   "nbconvert_exporter": "python",
   "pygments_lexer": "ipython3",
   "version": "3.6.9"
  }
 },
 "nbformat": 4,
 "nbformat_minor": 2
}
