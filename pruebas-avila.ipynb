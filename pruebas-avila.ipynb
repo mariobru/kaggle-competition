{
 "cells": [
  {
   "cell_type": "code",
   "execution_count": 22,
   "metadata": {},
   "outputs": [],
   "source": [
    "import pandas as pd\n",
    "from sklearn import datasets, svm, metrics\n",
    "from sklearn.preprocessing import Normalizer\n",
    "from sklearn.preprocessing import StandardScaler\n",
    "from sklearn.decomposition import PCA\n",
    "from sklearn.pipeline import make_pipeline\n",
    "from sklearn.model_selection import train_test_split"
   ]
  },
  {
   "cell_type": "code",
   "execution_count": 23,
   "metadata": {},
   "outputs": [],
   "source": [
    "avila =  pd.read_csv('./avila-bible-datamad1019/training_dataset.csv')"
   ]
  },
  {
   "cell_type": "code",
   "execution_count": 24,
   "metadata": {},
   "outputs": [
    {
     "data": {
      "text/html": [
       "<div>\n",
       "<style scoped>\n",
       "    .dataframe tbody tr th:only-of-type {\n",
       "        vertical-align: middle;\n",
       "    }\n",
       "\n",
       "    .dataframe tbody tr th {\n",
       "        vertical-align: top;\n",
       "    }\n",
       "\n",
       "    .dataframe thead th {\n",
       "        text-align: right;\n",
       "    }\n",
       "</style>\n",
       "<table border=\"1\" class=\"dataframe\">\n",
       "  <thead>\n",
       "    <tr style=\"text-align: right;\">\n",
       "      <th></th>\n",
       "      <th>id</th>\n",
       "      <th>F1</th>\n",
       "      <th>F2</th>\n",
       "      <th>F3</th>\n",
       "      <th>F4</th>\n",
       "      <th>F5</th>\n",
       "      <th>F6</th>\n",
       "      <th>F7</th>\n",
       "      <th>F8</th>\n",
       "      <th>F9</th>\n",
       "      <th>F10</th>\n",
       "      <th>scribe</th>\n",
       "    </tr>\n",
       "  </thead>\n",
       "  <tbody>\n",
       "    <tr>\n",
       "      <th>0</th>\n",
       "      <td>0</td>\n",
       "      <td>-0.091897</td>\n",
       "      <td>0.297600</td>\n",
       "      <td>0.079145</td>\n",
       "      <td>0.196496</td>\n",
       "      <td>0.261718</td>\n",
       "      <td>1.269960</td>\n",
       "      <td>0.446679</td>\n",
       "      <td>-0.751707</td>\n",
       "      <td>0.001721</td>\n",
       "      <td>0.998901</td>\n",
       "      <td>Philippus</td>\n",
       "    </tr>\n",
       "    <tr>\n",
       "      <th>1</th>\n",
       "      <td>1</td>\n",
       "      <td>-0.091897</td>\n",
       "      <td>0.226939</td>\n",
       "      <td>0.267634</td>\n",
       "      <td>0.024091</td>\n",
       "      <td>0.261718</td>\n",
       "      <td>-0.806282</td>\n",
       "      <td>0.597681</td>\n",
       "      <td>-0.601277</td>\n",
       "      <td>0.126447</td>\n",
       "      <td>-0.909619</td>\n",
       "      <td>Paithonius</td>\n",
       "    </tr>\n",
       "    <tr>\n",
       "      <th>2</th>\n",
       "      <td>2</td>\n",
       "      <td>0.167323</td>\n",
       "      <td>0.313302</td>\n",
       "      <td>0.168055</td>\n",
       "      <td>-0.383198</td>\n",
       "      <td>0.261718</td>\n",
       "      <td>0.190314</td>\n",
       "      <td>0.824183</td>\n",
       "      <td>0.558250</td>\n",
       "      <td>-0.247731</td>\n",
       "      <td>-0.148073</td>\n",
       "      <td>Marcus</td>\n",
       "    </tr>\n",
       "    <tr>\n",
       "      <th>3</th>\n",
       "      <td>3</td>\n",
       "      <td>-0.017834</td>\n",
       "      <td>-0.228430</td>\n",
       "      <td>0.370770</td>\n",
       "      <td>1.293671</td>\n",
       "      <td>0.172340</td>\n",
       "      <td>0.896237</td>\n",
       "      <td>0.182426</td>\n",
       "      <td>0.416867</td>\n",
       "      <td>1.373706</td>\n",
       "      <td>0.868284</td>\n",
       "      <td>Noaelius</td>\n",
       "    </tr>\n",
       "    <tr>\n",
       "      <th>4</th>\n",
       "      <td>4</td>\n",
       "      <td>0.043885</td>\n",
       "      <td>0.407516</td>\n",
       "      <td>-0.120014</td>\n",
       "      <td>0.281743</td>\n",
       "      <td>0.261718</td>\n",
       "      <td>-0.183409</td>\n",
       "      <td>0.106925</td>\n",
       "      <td>0.142896</td>\n",
       "      <td>0.531806</td>\n",
       "      <td>-0.101311</td>\n",
       "      <td>Marcus</td>\n",
       "    </tr>\n",
       "  </tbody>\n",
       "</table>\n",
       "</div>"
      ],
      "text/plain": [
       "   id        F1        F2        F3        F4        F5        F6        F7  \\\n",
       "0   0 -0.091897  0.297600  0.079145  0.196496  0.261718  1.269960  0.446679   \n",
       "1   1 -0.091897  0.226939  0.267634  0.024091  0.261718 -0.806282  0.597681   \n",
       "2   2  0.167323  0.313302  0.168055 -0.383198  0.261718  0.190314  0.824183   \n",
       "3   3 -0.017834 -0.228430  0.370770  1.293671  0.172340  0.896237  0.182426   \n",
       "4   4  0.043885  0.407516 -0.120014  0.281743  0.261718 -0.183409  0.106925   \n",
       "\n",
       "         F8        F9       F10      scribe  \n",
       "0 -0.751707  0.001721  0.998901   Philippus  \n",
       "1 -0.601277  0.126447 -0.909619  Paithonius  \n",
       "2  0.558250 -0.247731 -0.148073      Marcus  \n",
       "3  0.416867  1.373706  0.868284    Noaelius  \n",
       "4  0.142896  0.531806 -0.101311      Marcus  "
      ]
     },
     "execution_count": 24,
     "metadata": {},
     "output_type": "execute_result"
    }
   ],
   "source": [
    "avila.head()"
   ]
  },
  {
   "cell_type": "code",
   "execution_count": 25,
   "metadata": {},
   "outputs": [],
   "source": [
    "X = avila[[\"F1\",\"F2\",\"F3\",\"F4\",\"F8\",\"F10\"]]\n"
   ]
  },
  {
   "cell_type": "code",
   "execution_count": 26,
   "metadata": {},
   "outputs": [],
   "source": [
    "y = avila.scribe"
   ]
  },
  {
   "cell_type": "code",
   "execution_count": 53,
   "metadata": {},
   "outputs": [
    {
     "ename": "ValueError",
     "evalue": "Found input variables with inconsistent numbers of samples: [8012, 12017]",
     "output_type": "error",
     "traceback": [
      "\u001b[0;31m---------------------------------------------------------------------------\u001b[0m",
      "\u001b[0;31mValueError\u001b[0m                                Traceback (most recent call last)",
      "\u001b[0;32m<ipython-input-53-a13b3f413ca8>\u001b[0m in \u001b[0;36m<module>\u001b[0;34m\u001b[0m\n\u001b[0;32m----> 1\u001b[0;31m \u001b[0mX_train\u001b[0m\u001b[0;34m,\u001b[0m \u001b[0mX_test\u001b[0m\u001b[0;34m,\u001b[0m \u001b[0my_train\u001b[0m\u001b[0;34m,\u001b[0m \u001b[0my_test\u001b[0m \u001b[0;34m=\u001b[0m \u001b[0mtrain_test_split\u001b[0m\u001b[0;34m(\u001b[0m\u001b[0mX\u001b[0m\u001b[0;34m,\u001b[0m\u001b[0my\u001b[0m\u001b[0;34m,\u001b[0m \u001b[0mtest_size\u001b[0m\u001b[0;34m=\u001b[0m\u001b[0;36m0.01\u001b[0m\u001b[0;34m)\u001b[0m\u001b[0;34m\u001b[0m\u001b[0;34m\u001b[0m\u001b[0m\n\u001b[0m",
      "\u001b[0;32m~/.local/lib/python3.6/site-packages/sklearn/model_selection/_split.py\u001b[0m in \u001b[0;36mtrain_test_split\u001b[0;34m(*arrays, **options)\u001b[0m\n\u001b[1;32m   2094\u001b[0m         \u001b[0;32mraise\u001b[0m \u001b[0mTypeError\u001b[0m\u001b[0;34m(\u001b[0m\u001b[0;34m\"Invalid parameters passed: %s\"\u001b[0m \u001b[0;34m%\u001b[0m \u001b[0mstr\u001b[0m\u001b[0;34m(\u001b[0m\u001b[0moptions\u001b[0m\u001b[0;34m)\u001b[0m\u001b[0;34m)\u001b[0m\u001b[0;34m\u001b[0m\u001b[0;34m\u001b[0m\u001b[0m\n\u001b[1;32m   2095\u001b[0m \u001b[0;34m\u001b[0m\u001b[0m\n\u001b[0;32m-> 2096\u001b[0;31m     \u001b[0marrays\u001b[0m \u001b[0;34m=\u001b[0m \u001b[0mindexable\u001b[0m\u001b[0;34m(\u001b[0m\u001b[0;34m*\u001b[0m\u001b[0marrays\u001b[0m\u001b[0;34m)\u001b[0m\u001b[0;34m\u001b[0m\u001b[0;34m\u001b[0m\u001b[0m\n\u001b[0m\u001b[1;32m   2097\u001b[0m \u001b[0;34m\u001b[0m\u001b[0m\n\u001b[1;32m   2098\u001b[0m     \u001b[0mn_samples\u001b[0m \u001b[0;34m=\u001b[0m \u001b[0m_num_samples\u001b[0m\u001b[0;34m(\u001b[0m\u001b[0marrays\u001b[0m\u001b[0;34m[\u001b[0m\u001b[0;36m0\u001b[0m\u001b[0;34m]\u001b[0m\u001b[0;34m)\u001b[0m\u001b[0;34m\u001b[0m\u001b[0;34m\u001b[0m\u001b[0m\n",
      "\u001b[0;32m~/.local/lib/python3.6/site-packages/sklearn/utils/validation.py\u001b[0m in \u001b[0;36mindexable\u001b[0;34m(*iterables)\u001b[0m\n\u001b[1;32m    228\u001b[0m         \u001b[0;32melse\u001b[0m\u001b[0;34m:\u001b[0m\u001b[0;34m\u001b[0m\u001b[0;34m\u001b[0m\u001b[0m\n\u001b[1;32m    229\u001b[0m             \u001b[0mresult\u001b[0m\u001b[0;34m.\u001b[0m\u001b[0mappend\u001b[0m\u001b[0;34m(\u001b[0m\u001b[0mnp\u001b[0m\u001b[0;34m.\u001b[0m\u001b[0marray\u001b[0m\u001b[0;34m(\u001b[0m\u001b[0mX\u001b[0m\u001b[0;34m)\u001b[0m\u001b[0;34m)\u001b[0m\u001b[0;34m\u001b[0m\u001b[0;34m\u001b[0m\u001b[0m\n\u001b[0;32m--> 230\u001b[0;31m     \u001b[0mcheck_consistent_length\u001b[0m\u001b[0;34m(\u001b[0m\u001b[0;34m*\u001b[0m\u001b[0mresult\u001b[0m\u001b[0;34m)\u001b[0m\u001b[0;34m\u001b[0m\u001b[0;34m\u001b[0m\u001b[0m\n\u001b[0m\u001b[1;32m    231\u001b[0m     \u001b[0;32mreturn\u001b[0m \u001b[0mresult\u001b[0m\u001b[0;34m\u001b[0m\u001b[0;34m\u001b[0m\u001b[0m\n\u001b[1;32m    232\u001b[0m \u001b[0;34m\u001b[0m\u001b[0m\n",
      "\u001b[0;32m~/.local/lib/python3.6/site-packages/sklearn/utils/validation.py\u001b[0m in \u001b[0;36mcheck_consistent_length\u001b[0;34m(*arrays)\u001b[0m\n\u001b[1;32m    203\u001b[0m     \u001b[0;32mif\u001b[0m \u001b[0mlen\u001b[0m\u001b[0;34m(\u001b[0m\u001b[0muniques\u001b[0m\u001b[0;34m)\u001b[0m \u001b[0;34m>\u001b[0m \u001b[0;36m1\u001b[0m\u001b[0;34m:\u001b[0m\u001b[0;34m\u001b[0m\u001b[0;34m\u001b[0m\u001b[0m\n\u001b[1;32m    204\u001b[0m         raise ValueError(\"Found input variables with inconsistent numbers of\"\n\u001b[0;32m--> 205\u001b[0;31m                          \" samples: %r\" % [int(l) for l in lengths])\n\u001b[0m\u001b[1;32m    206\u001b[0m \u001b[0;34m\u001b[0m\u001b[0m\n\u001b[1;32m    207\u001b[0m \u001b[0;34m\u001b[0m\u001b[0m\n",
      "\u001b[0;31mValueError\u001b[0m: Found input variables with inconsistent numbers of samples: [8012, 12017]"
     ]
    }
   ],
   "source": [
    "X_train, X_test, y_train, y_test = train_test_split(X,y, test_size=0.01)"
   ]
  },
  {
   "cell_type": "code",
   "execution_count": 54,
   "metadata": {},
   "outputs": [
    {
     "data": {
      "text/html": [
       "<div>\n",
       "<style scoped>\n",
       "    .dataframe tbody tr th:only-of-type {\n",
       "        vertical-align: middle;\n",
       "    }\n",
       "\n",
       "    .dataframe tbody tr th {\n",
       "        vertical-align: top;\n",
       "    }\n",
       "\n",
       "    .dataframe thead th {\n",
       "        text-align: right;\n",
       "    }\n",
       "</style>\n",
       "<table border=\"1\" class=\"dataframe\">\n",
       "  <thead>\n",
       "    <tr style=\"text-align: right;\">\n",
       "      <th></th>\n",
       "      <th>F1</th>\n",
       "      <th>F2</th>\n",
       "      <th>F3</th>\n",
       "      <th>F4</th>\n",
       "      <th>F8</th>\n",
       "      <th>F10</th>\n",
       "    </tr>\n",
       "  </thead>\n",
       "  <tbody>\n",
       "    <tr>\n",
       "      <th>11332</th>\n",
       "      <td>-0.005490</td>\n",
       "      <td>0.760819</td>\n",
       "      <td>-0.095119</td>\n",
       "      <td>-0.016936</td>\n",
       "      <td>0.086398</td>\n",
       "      <td>-0.731975</td>\n",
       "    </tr>\n",
       "    <tr>\n",
       "      <th>204</th>\n",
       "      <td>0.117948</td>\n",
       "      <td>0.124874</td>\n",
       "      <td>0.128935</td>\n",
       "      <td>0.383700</td>\n",
       "      <td>-0.044928</td>\n",
       "      <td>-1.038175</td>\n",
       "    </tr>\n",
       "    <tr>\n",
       "      <th>10567</th>\n",
       "      <td>0.105604</td>\n",
       "      <td>-0.087108</td>\n",
       "      <td>0.367214</td>\n",
       "      <td>1.522618</td>\n",
       "      <td>0.856141</td>\n",
       "      <td>0.369237</td>\n",
       "    </tr>\n",
       "    <tr>\n",
       "      <th>4648</th>\n",
       "      <td>0.031541</td>\n",
       "      <td>-2.426761</td>\n",
       "      <td>0.370770</td>\n",
       "      <td>0.779770</td>\n",
       "      <td>0.590014</td>\n",
       "      <td>1.189673</td>\n",
       "    </tr>\n",
       "    <tr>\n",
       "      <th>8324</th>\n",
       "      <td>-0.116585</td>\n",
       "      <td>0.305451</td>\n",
       "      <td>0.036468</td>\n",
       "      <td>-0.410380</td>\n",
       "      <td>0.438205</td>\n",
       "      <td>-0.289769</td>\n",
       "    </tr>\n",
       "  </tbody>\n",
       "</table>\n",
       "</div>"
      ],
      "text/plain": [
       "             F1        F2        F3        F4        F8       F10\n",
       "11332 -0.005490  0.760819 -0.095119 -0.016936  0.086398 -0.731975\n",
       "204    0.117948  0.124874  0.128935  0.383700 -0.044928 -1.038175\n",
       "10567  0.105604 -0.087108  0.367214  1.522618  0.856141  0.369237\n",
       "4648   0.031541 -2.426761  0.370770  0.779770  0.590014  1.189673\n",
       "8324  -0.116585  0.305451  0.036468 -0.410380  0.438205 -0.289769"
      ]
     },
     "execution_count": 54,
     "metadata": {},
     "output_type": "execute_result"
    }
   ],
   "source": [
    "X_test.head()"
   ]
  },
  {
   "cell_type": "code",
   "execution_count": 55,
   "metadata": {},
   "outputs": [
    {
     "data": {
      "text/plain": [
       "0     Philippus\n",
       "1        Marcus\n",
       "2        Marcus\n",
       "3        Marcus\n",
       "4    Paithonius\n",
       "Name: scribe, dtype: object"
      ]
     },
     "execution_count": 55,
     "metadata": {},
     "output_type": "execute_result"
    }
   ],
   "source": [
    "y_test.head()"
   ]
  },
  {
   "cell_type": "code",
   "execution_count": 56,
   "metadata": {},
   "outputs": [],
   "source": [
    "from sklearn.svm import LinearSVC\n",
    "from sklearn.linear_model import LogisticRegression\n",
    "from sklearn.ensemble import RandomForestClassifier"
   ]
  },
  {
   "cell_type": "code",
   "execution_count": 57,
   "metadata": {},
   "outputs": [
    {
     "name": "stdout",
     "output_type": "stream",
     "text": [
      "Training model: svm\n"
     ]
    },
    {
     "name": "stderr",
     "output_type": "stream",
     "text": [
      "/home/mariobru/.local/lib/python3.6/site-packages/sklearn/svm/base.py:929: ConvergenceWarning: Liblinear failed to converge, increase the number of iterations.\n",
      "  \"the number of iterations.\", ConvergenceWarning)\n",
      "/home/mariobru/.local/lib/python3.6/site-packages/sklearn/linear_model/logistic.py:469: FutureWarning: Default multi_class will be changed to 'auto' in 0.22. Specify the multi_class option to silence this warning.\n",
      "  \"this warning.\", FutureWarning)\n"
     ]
    },
    {
     "name": "stdout",
     "output_type": "stream",
     "text": [
      "Training model: logistic\n",
      "Training model: forest\n"
     ]
    },
    {
     "name": "stderr",
     "output_type": "stream",
     "text": [
      "/home/mariobru/.local/lib/python3.6/site-packages/sklearn/ensemble/forest.py:245: FutureWarning: The default value of n_estimators will change from 10 in version 0.20 to 100 in 0.22.\n",
      "  \"10 in version 0.20 to 100 in 0.22.\", FutureWarning)\n"
     ]
    }
   ],
   "source": [
    "models = {\n",
    "    \"svm\": LinearSVC(),\n",
    "    \"logistic\": LogisticRegression(solver='lbfgs', max_iter=2000),\n",
    "    \"forest\": RandomForestClassifier()\n",
    "}\n",
    "\n",
    "for modelName, model in models.items():\n",
    "    print(f\"Training model: {modelName}\")\n",
    "    model.fit(X_train, y_train)"
   ]
  },
  {
   "cell_type": "code",
   "execution_count": 58,
   "metadata": {},
   "outputs": [
    {
     "data": {
      "text/html": [
       "<div>\n",
       "<style scoped>\n",
       "    .dataframe tbody tr th:only-of-type {\n",
       "        vertical-align: middle;\n",
       "    }\n",
       "\n",
       "    .dataframe tbody tr th {\n",
       "        vertical-align: top;\n",
       "    }\n",
       "\n",
       "    .dataframe thead th {\n",
       "        text-align: right;\n",
       "    }\n",
       "</style>\n",
       "<table border=\"1\" class=\"dataframe\">\n",
       "  <thead>\n",
       "    <tr style=\"text-align: right;\">\n",
       "      <th></th>\n",
       "      <th>svm</th>\n",
       "      <th>logistic</th>\n",
       "      <th>forest</th>\n",
       "      <th>gt</th>\n",
       "    </tr>\n",
       "  </thead>\n",
       "  <tbody>\n",
       "    <tr>\n",
       "      <th>0</th>\n",
       "      <td>Marcus</td>\n",
       "      <td>Marcus</td>\n",
       "      <td>Philippus</td>\n",
       "      <td>Philippus</td>\n",
       "    </tr>\n",
       "    <tr>\n",
       "      <th>1</th>\n",
       "      <td>Marcus</td>\n",
       "      <td>Marcus</td>\n",
       "      <td>Marcus</td>\n",
       "      <td>Marcus</td>\n",
       "    </tr>\n",
       "    <tr>\n",
       "      <th>2</th>\n",
       "      <td>Marcus</td>\n",
       "      <td>Marcus</td>\n",
       "      <td>Marcus</td>\n",
       "      <td>Marcus</td>\n",
       "    </tr>\n",
       "    <tr>\n",
       "      <th>3</th>\n",
       "      <td>Marcus</td>\n",
       "      <td>Marcus</td>\n",
       "      <td>Marcus</td>\n",
       "      <td>Marcus</td>\n",
       "    </tr>\n",
       "    <tr>\n",
       "      <th>4</th>\n",
       "      <td>Marcus</td>\n",
       "      <td>Marcus</td>\n",
       "      <td>Paithonius</td>\n",
       "      <td>Paithonius</td>\n",
       "    </tr>\n",
       "    <tr>\n",
       "      <th>...</th>\n",
       "      <td>...</td>\n",
       "      <td>...</td>\n",
       "      <td>...</td>\n",
       "      <td>...</td>\n",
       "    </tr>\n",
       "    <tr>\n",
       "      <th>1197</th>\n",
       "      <td>Marcus</td>\n",
       "      <td>Marcus</td>\n",
       "      <td>Philippus</td>\n",
       "      <td>Philippus</td>\n",
       "    </tr>\n",
       "    <tr>\n",
       "      <th>1198</th>\n",
       "      <td>Marcus</td>\n",
       "      <td>Marcus</td>\n",
       "      <td>Franciscus</td>\n",
       "      <td>Franciscus</td>\n",
       "    </tr>\n",
       "    <tr>\n",
       "      <th>1199</th>\n",
       "      <td>Marcus</td>\n",
       "      <td>Marcus</td>\n",
       "      <td>Philippus</td>\n",
       "      <td>Philippus</td>\n",
       "    </tr>\n",
       "    <tr>\n",
       "      <th>1200</th>\n",
       "      <td>Marcus</td>\n",
       "      <td>Marcus</td>\n",
       "      <td>Marcus</td>\n",
       "      <td>Marcus</td>\n",
       "    </tr>\n",
       "    <tr>\n",
       "      <th>1201</th>\n",
       "      <td>Marcus</td>\n",
       "      <td>Marcus</td>\n",
       "      <td>Franciscus</td>\n",
       "      <td>Franciscus</td>\n",
       "    </tr>\n",
       "  </tbody>\n",
       "</table>\n",
       "<p>1202 rows × 4 columns</p>\n",
       "</div>"
      ],
      "text/plain": [
       "         svm logistic      forest          gt\n",
       "0     Marcus   Marcus   Philippus   Philippus\n",
       "1     Marcus   Marcus      Marcus      Marcus\n",
       "2     Marcus   Marcus      Marcus      Marcus\n",
       "3     Marcus   Marcus      Marcus      Marcus\n",
       "4     Marcus   Marcus  Paithonius  Paithonius\n",
       "...      ...      ...         ...         ...\n",
       "1197  Marcus   Marcus   Philippus   Philippus\n",
       "1198  Marcus   Marcus  Franciscus  Franciscus\n",
       "1199  Marcus   Marcus   Philippus   Philippus\n",
       "1200  Marcus   Marcus      Marcus      Marcus\n",
       "1201  Marcus   Marcus  Franciscus  Franciscus\n",
       "\n",
       "[1202 rows x 4 columns]"
      ]
     },
     "execution_count": 58,
     "metadata": {},
     "output_type": "execute_result"
    }
   ],
   "source": [
    "d = {modelName:model.predict(X_test) for modelName, model in models.items()}\n",
    "\n",
    "df = pd.DataFrame(d)\n",
    "y_test.reset_index(inplace=True, drop=True)\n",
    "df[\"gt\"] = y_test\n",
    "df"
   ]
  },
  {
   "cell_type": "code",
   "execution_count": 59,
   "metadata": {},
   "outputs": [
    {
     "name": "stdout",
     "output_type": "stream",
     "text": [
      "Evaluating model [svm]:\n"
     ]
    },
    {
     "data": {
      "text/html": [
       "<span style=\"padding-left:20px\">The Accuracy is: <b style=\"color:orange\">0.43</b></span>"
      ],
      "text/plain": [
       "<IPython.core.display.HTML object>"
      ]
     },
     "metadata": {},
     "output_type": "display_data"
    },
    {
     "name": "stderr",
     "output_type": "stream",
     "text": [
      "/home/mariobru/.local/lib/python3.6/site-packages/sklearn/metrics/classification.py:1437: UndefinedMetricWarning: Precision is ill-defined and being set to 0.0 in labels with no predicted samples.\n",
      "  'precision', 'predicted', average, warn_for)\n"
     ]
    },
    {
     "data": {
      "text/html": [
       "<span style=\"padding-left:20px\">The Precision is: <b style=\"color:orange\">0.26</b></span>"
      ],
      "text/plain": [
       "<IPython.core.display.HTML object>"
      ]
     },
     "metadata": {},
     "output_type": "display_data"
    },
    {
     "data": {
      "text/html": [
       "<span style=\"padding-left:20px\">The Recall is: <b style=\"color:orange\">0.43</b></span>"
      ],
      "text/plain": [
       "<IPython.core.display.HTML object>"
      ]
     },
     "metadata": {},
     "output_type": "display_data"
    },
    {
     "name": "stdout",
     "output_type": "stream",
     "text": [
      "Evaluating model [logistic]:\n"
     ]
    },
    {
     "data": {
      "text/html": [
       "<span style=\"padding-left:20px\">The Accuracy is: <b style=\"color:orange\">0.44</b></span>"
      ],
      "text/plain": [
       "<IPython.core.display.HTML object>"
      ]
     },
     "metadata": {},
     "output_type": "display_data"
    },
    {
     "data": {
      "text/html": [
       "<span style=\"padding-left:20px\">The Precision is: <b style=\"color:orange\">0.29</b></span>"
      ],
      "text/plain": [
       "<IPython.core.display.HTML object>"
      ]
     },
     "metadata": {},
     "output_type": "display_data"
    },
    {
     "data": {
      "text/html": [
       "<span style=\"padding-left:20px\">The Recall is: <b style=\"color:orange\">0.44</b></span>"
      ],
      "text/plain": [
       "<IPython.core.display.HTML object>"
      ]
     },
     "metadata": {},
     "output_type": "display_data"
    },
    {
     "name": "stdout",
     "output_type": "stream",
     "text": [
      "Evaluating model [forest]:\n"
     ]
    },
    {
     "data": {
      "text/html": [
       "<span style=\"padding-left:20px\">The Accuracy is: <b style=\"color:green\">1.0</b></span>"
      ],
      "text/plain": [
       "<IPython.core.display.HTML object>"
      ]
     },
     "metadata": {},
     "output_type": "display_data"
    },
    {
     "data": {
      "text/html": [
       "<span style=\"padding-left:20px\">The Precision is: <b style=\"color:green\">1.0</b></span>"
      ],
      "text/plain": [
       "<IPython.core.display.HTML object>"
      ]
     },
     "metadata": {},
     "output_type": "display_data"
    },
    {
     "data": {
      "text/html": [
       "<span style=\"padding-left:20px\">The Recall is: <b style=\"color:green\">1.0</b></span>"
      ],
      "text/plain": [
       "<IPython.core.display.HTML object>"
      ]
     },
     "metadata": {},
     "output_type": "display_data"
    }
   ],
   "source": [
    "from sklearn.metrics import accuracy_score\n",
    "from sklearn.metrics import precision_score\n",
    "from sklearn.metrics import recall_score\n",
    "from IPython.core.display import display, HTML\n",
    "\n",
    "switchColor = lambda value: f\"<b style=\\\"color:orange\\\">{round(value,2)}</b>\" if value < 0.8 else f\"<b style=\\\"color:green\\\">{round(value,2)}</b>\"\n",
    "printBonito = lambda label,val: display(HTML(f\"<span style=\\\"padding-left:20px\\\">The {label} is: {switchColor(val)}</span>\"))\n",
    "\n",
    "for modelName, model in models.items():    \n",
    "    print(f\"Evaluating model [{modelName}]:\")\n",
    "    printBonito(\"Accuracy\", accuracy_score(df[\"gt\"],df[modelName]))\n",
    "    printBonito(\"Precision\", precision_score(df[\"gt\"],df[modelName],average='weighted'))\n",
    "    printBonito(\"Recall\", recall_score(df[\"gt\"],df[modelName],average='weighted'))"
   ]
  },
  {
   "cell_type": "code",
   "execution_count": 60,
   "metadata": {},
   "outputs": [],
   "source": [
    "avila_test =  pd.read_csv('./avila-bible-datamad1019/test_dataset.csv')"
   ]
  },
  {
   "cell_type": "code",
   "execution_count": 61,
   "metadata": {},
   "outputs": [
    {
     "data": {
      "text/html": [
       "<div>\n",
       "<style scoped>\n",
       "    .dataframe tbody tr th:only-of-type {\n",
       "        vertical-align: middle;\n",
       "    }\n",
       "\n",
       "    .dataframe tbody tr th {\n",
       "        vertical-align: top;\n",
       "    }\n",
       "\n",
       "    .dataframe thead th {\n",
       "        text-align: right;\n",
       "    }\n",
       "</style>\n",
       "<table border=\"1\" class=\"dataframe\">\n",
       "  <thead>\n",
       "    <tr style=\"text-align: right;\">\n",
       "      <th></th>\n",
       "      <th>id</th>\n",
       "      <th>F1</th>\n",
       "      <th>F2</th>\n",
       "      <th>F3</th>\n",
       "      <th>F4</th>\n",
       "      <th>F5</th>\n",
       "      <th>F6</th>\n",
       "      <th>F7</th>\n",
       "      <th>F8</th>\n",
       "      <th>F9</th>\n",
       "      <th>F10</th>\n",
       "    </tr>\n",
       "  </thead>\n",
       "  <tbody>\n",
       "    <tr>\n",
       "      <th>0</th>\n",
       "      <td>0</td>\n",
       "      <td>-0.042522</td>\n",
       "      <td>0.007106</td>\n",
       "      <td>0.264078</td>\n",
       "      <td>-0.162546</td>\n",
       "      <td>0.172340</td>\n",
       "      <td>-1.055431</td>\n",
       "      <td>0.106925</td>\n",
       "      <td>0.680858</td>\n",
       "      <td>0.781258</td>\n",
       "      <td>-0.901193</td>\n",
       "    </tr>\n",
       "    <tr>\n",
       "      <th>1</th>\n",
       "      <td>1</td>\n",
       "      <td>0.315450</td>\n",
       "      <td>0.540986</td>\n",
       "      <td>0.029355</td>\n",
       "      <td>-0.395163</td>\n",
       "      <td>0.261718</td>\n",
       "      <td>-1.055431</td>\n",
       "      <td>0.182426</td>\n",
       "      <td>-0.643408</td>\n",
       "      <td>0.095265</td>\n",
       "      <td>-0.925038</td>\n",
       "    </tr>\n",
       "    <tr>\n",
       "      <th>2</th>\n",
       "      <td>2</td>\n",
       "      <td>-0.351118</td>\n",
       "      <td>-0.244132</td>\n",
       "      <td>0.594823</td>\n",
       "      <td>1.592678</td>\n",
       "      <td>0.797987</td>\n",
       "      <td>0.397939</td>\n",
       "      <td>-1.025587</td>\n",
       "      <td>1.157371</td>\n",
       "      <td>1.591976</td>\n",
       "      <td>1.278013</td>\n",
       "    </tr>\n",
       "    <tr>\n",
       "      <th>3</th>\n",
       "      <td>3</td>\n",
       "      <td>0.327793</td>\n",
       "      <td>0.336855</td>\n",
       "      <td>-0.020434</td>\n",
       "      <td>1.086893</td>\n",
       "      <td>0.261718</td>\n",
       "      <td>-0.307984</td>\n",
       "      <td>0.220177</td>\n",
       "      <td>0.449873</td>\n",
       "      <td>-0.528364</td>\n",
       "      <td>-0.276773</td>\n",
       "    </tr>\n",
       "    <tr>\n",
       "      <th>4</th>\n",
       "      <td>4</td>\n",
       "      <td>0.019197</td>\n",
       "      <td>-0.087108</td>\n",
       "      <td>0.384996</td>\n",
       "      <td>0.794958</td>\n",
       "      <td>0.261718</td>\n",
       "      <td>0.314889</td>\n",
       "      <td>-0.044076</td>\n",
       "      <td>-1.067421</td>\n",
       "      <td>-0.715453</td>\n",
       "      <td>0.440809</td>\n",
       "    </tr>\n",
       "  </tbody>\n",
       "</table>\n",
       "</div>"
      ],
      "text/plain": [
       "   id        F1        F2        F3        F4        F5        F6        F7  \\\n",
       "0   0 -0.042522  0.007106  0.264078 -0.162546  0.172340 -1.055431  0.106925   \n",
       "1   1  0.315450  0.540986  0.029355 -0.395163  0.261718 -1.055431  0.182426   \n",
       "2   2 -0.351118 -0.244132  0.594823  1.592678  0.797987  0.397939 -1.025587   \n",
       "3   3  0.327793  0.336855 -0.020434  1.086893  0.261718 -0.307984  0.220177   \n",
       "4   4  0.019197 -0.087108  0.384996  0.794958  0.261718  0.314889 -0.044076   \n",
       "\n",
       "         F8        F9       F10  \n",
       "0  0.680858  0.781258 -0.901193  \n",
       "1 -0.643408  0.095265 -0.925038  \n",
       "2  1.157371  1.591976  1.278013  \n",
       "3  0.449873 -0.528364 -0.276773  \n",
       "4 -1.067421 -0.715453  0.440809  "
      ]
     },
     "execution_count": 61,
     "metadata": {},
     "output_type": "execute_result"
    }
   ],
   "source": [
    "avila_test.head()"
   ]
  },
  {
   "cell_type": "code",
   "execution_count": 62,
   "metadata": {},
   "outputs": [],
   "source": [
    "X = avila_test[[\"F1\",\"F2\",\"F3\",\"F4\",\"F8\",\"F10\"]]"
   ]
  },
  {
   "cell_type": "code",
   "execution_count": 63,
   "metadata": {},
   "outputs": [
    {
     "name": "stdout",
     "output_type": "stream",
     "text": [
      "{'svm': array(['Marcus', 'Marcus', 'Marcus', ..., 'Marcus', 'Marcus', 'Marcus'],\n",
      "      dtype=object), 'logistic': array(['Marcus', 'Marcus', 'Marcus', ..., 'Marcus', 'Marcus', 'Marcus'],\n",
      "      dtype=object), 'forest': array(['Franciscus', 'Ubuntius', 'Noaelius', ..., 'Marcus', 'Philippus',\n",
      "       'Franciscus'], dtype=object)}\n"
     ]
    },
    {
     "data": {
      "text/html": [
       "<div>\n",
       "<style scoped>\n",
       "    .dataframe tbody tr th:only-of-type {\n",
       "        vertical-align: middle;\n",
       "    }\n",
       "\n",
       "    .dataframe tbody tr th {\n",
       "        vertical-align: top;\n",
       "    }\n",
       "\n",
       "    .dataframe thead th {\n",
       "        text-align: right;\n",
       "    }\n",
       "</style>\n",
       "<table border=\"1\" class=\"dataframe\">\n",
       "  <thead>\n",
       "    <tr style=\"text-align: right;\">\n",
       "      <th></th>\n",
       "      <th>scribe</th>\n",
       "    </tr>\n",
       "  </thead>\n",
       "  <tbody>\n",
       "    <tr>\n",
       "      <th>0</th>\n",
       "      <td>Franciscus</td>\n",
       "    </tr>\n",
       "    <tr>\n",
       "      <th>1</th>\n",
       "      <td>Ubuntius</td>\n",
       "    </tr>\n",
       "    <tr>\n",
       "      <th>2</th>\n",
       "      <td>Noaelius</td>\n",
       "    </tr>\n",
       "    <tr>\n",
       "      <th>3</th>\n",
       "      <td>Marcus</td>\n",
       "    </tr>\n",
       "    <tr>\n",
       "      <th>4</th>\n",
       "      <td>Marcus</td>\n",
       "    </tr>\n",
       "    <tr>\n",
       "      <th>...</th>\n",
       "      <td>...</td>\n",
       "    </tr>\n",
       "    <tr>\n",
       "      <th>8007</th>\n",
       "      <td>Paithonius</td>\n",
       "    </tr>\n",
       "    <tr>\n",
       "      <th>8008</th>\n",
       "      <td>Marcus</td>\n",
       "    </tr>\n",
       "    <tr>\n",
       "      <th>8009</th>\n",
       "      <td>Marcus</td>\n",
       "    </tr>\n",
       "    <tr>\n",
       "      <th>8010</th>\n",
       "      <td>Philippus</td>\n",
       "    </tr>\n",
       "    <tr>\n",
       "      <th>8011</th>\n",
       "      <td>Franciscus</td>\n",
       "    </tr>\n",
       "  </tbody>\n",
       "</table>\n",
       "<p>8012 rows × 1 columns</p>\n",
       "</div>"
      ],
      "text/plain": [
       "          scribe\n",
       "0     Franciscus\n",
       "1       Ubuntius\n",
       "2       Noaelius\n",
       "3         Marcus\n",
       "4         Marcus\n",
       "...          ...\n",
       "8007  Paithonius\n",
       "8008      Marcus\n",
       "8009      Marcus\n",
       "8010   Philippus\n",
       "8011  Franciscus\n",
       "\n",
       "[8012 rows x 1 columns]"
      ]
     },
     "execution_count": 63,
     "metadata": {},
     "output_type": "execute_result"
    }
   ],
   "source": [
    "d = {modelName:model.predict(X) for modelName, model in models.items()}\n",
    "print(d)\n",
    "\n",
    "df = pd.DataFrame(d)\n",
    "df.drop(columns=['svm', 'logistic'], inplace=True)\n",
    "df.rename(columns={\"forest\": \"scribe\"}, inplace=True)\n",
    "df"
   ]
  },
  {
   "cell_type": "code",
   "execution_count": 64,
   "metadata": {},
   "outputs": [],
   "source": [
    "df.to_csv('./avila-bible-datamad1019/submission.csv')"
   ]
  },
  {
   "cell_type": "code",
   "execution_count": null,
   "metadata": {},
   "outputs": [],
   "source": []
  },
  {
   "cell_type": "code",
   "execution_count": null,
   "metadata": {},
   "outputs": [],
   "source": []
  }
 ],
 "metadata": {
  "kernelspec": {
   "display_name": "Python 3",
   "language": "python",
   "name": "python3"
  },
  "language_info": {
   "codemirror_mode": {
    "name": "ipython",
    "version": 3
   },
   "file_extension": ".py",
   "mimetype": "text/x-python",
   "name": "python",
   "nbconvert_exporter": "python",
   "pygments_lexer": "ipython3",
   "version": "3.6.9"
  }
 },
 "nbformat": 4,
 "nbformat_minor": 2
}
